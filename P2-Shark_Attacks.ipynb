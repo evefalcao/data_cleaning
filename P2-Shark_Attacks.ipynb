{
 "cells": [
  {
   "cell_type": "code",
   "execution_count": 1,
   "metadata": {},
   "outputs": [],
   "source": [
    "import pandas as pd\n",
    "import numpy as np\n",
    "\n",
    "pd.options.display.max_rows=200\n",
    "pd.set_option(\"display.max.columns\", None)"
   ]
  },
  {
   "cell_type": "code",
   "execution_count": null,
   "metadata": {},
   "outputs": [],
   "source": []
  },
  {
   "cell_type": "markdown",
   "metadata": {},
   "source": [
    "# Exploring the Data Set"
   ]
  },
  {
   "cell_type": "markdown",
   "metadata": {},
   "source": [
    "## Importing the data from Kaggle"
   ]
  },
  {
   "cell_type": "code",
   "execution_count": 2,
   "metadata": {},
   "outputs": [],
   "source": [
    "sharks = pd.read_csv('../mini-project-2/attacks.csv', encoding='cp437', sep=',',  low_memory=False)"
   ]
  },
  {
   "cell_type": "code",
   "execution_count": 3,
   "metadata": {},
   "outputs": [
    {
     "data": {
      "text/plain": [
       "(25723, 24)"
      ]
     },
     "execution_count": 3,
     "metadata": {},
     "output_type": "execute_result"
    }
   ],
   "source": [
    "sharks.shape"
   ]
  },
  {
   "cell_type": "code",
   "execution_count": 4,
   "metadata": {},
   "outputs": [
    {
     "name": "stdout",
     "output_type": "stream",
     "text": [
      "<class 'pandas.core.frame.DataFrame'>\n",
      "RangeIndex: 25723 entries, 0 to 25722\n",
      "Data columns (total 24 columns):\n",
      " #   Column                  Non-Null Count  Dtype  \n",
      "---  ------                  --------------  -----  \n",
      " 0   Case Number             8702 non-null   object \n",
      " 1   Date                    6302 non-null   object \n",
      " 2   Year                    6300 non-null   float64\n",
      " 3   Type                    6298 non-null   object \n",
      " 4   Country                 6252 non-null   object \n",
      " 5   Area                    5847 non-null   object \n",
      " 6   Location                5762 non-null   object \n",
      " 7   Activity                5758 non-null   object \n",
      " 8   Name                    6092 non-null   object \n",
      " 9   Sex                     5737 non-null   object \n",
      " 10  Age                     3471 non-null   object \n",
      " 11  Injury                  6274 non-null   object \n",
      " 12  Fatal (Y/N)             5763 non-null   object \n",
      " 13  Time                    2948 non-null   object \n",
      " 14  Species                 3464 non-null   object \n",
      " 15  Investigator or Source  6285 non-null   object \n",
      " 16  pdf                     6302 non-null   object \n",
      " 17  href formula            6301 non-null   object \n",
      " 18  href                    6302 non-null   object \n",
      " 19  Case Number.1           6302 non-null   object \n",
      " 20  Case Number.2           6302 non-null   object \n",
      " 21  original order          6309 non-null   float64\n",
      " 22  Unnamed: 22             1 non-null      object \n",
      " 23  Unnamed: 23             2 non-null      object \n",
      "dtypes: float64(2), object(22)\n",
      "memory usage: 4.7+ MB\n"
     ]
    }
   ],
   "source": [
    "sharks.info()"
   ]
  },
  {
   "cell_type": "code",
   "execution_count": 5,
   "metadata": {},
   "outputs": [
    {
     "data": {
      "text/plain": [
       "Case Number                object\n",
       "Date                       object\n",
       "Year                      float64\n",
       "Type                       object\n",
       "Country                    object\n",
       "Area                       object\n",
       "Location                   object\n",
       "Activity                   object\n",
       "Name                       object\n",
       "Sex                        object\n",
       "Age                        object\n",
       "Injury                     object\n",
       "Fatal (Y/N)                object\n",
       "Time                       object\n",
       "Species                    object\n",
       "Investigator or Source     object\n",
       "pdf                        object\n",
       "href formula               object\n",
       "href                       object\n",
       "Case Number.1              object\n",
       "Case Number.2              object\n",
       "original order            float64\n",
       "Unnamed: 22                object\n",
       "Unnamed: 23                object\n",
       "dtype: object"
      ]
     },
     "execution_count": 5,
     "metadata": {},
     "output_type": "execute_result"
    }
   ],
   "source": [
    "sharks.dtypes"
   ]
  },
  {
   "cell_type": "code",
   "execution_count": 6,
   "metadata": {},
   "outputs": [
    {
     "data": {
      "text/html": [
       "<div>\n",
       "<style scoped>\n",
       "    .dataframe tbody tr th:only-of-type {\n",
       "        vertical-align: middle;\n",
       "    }\n",
       "\n",
       "    .dataframe tbody tr th {\n",
       "        vertical-align: top;\n",
       "    }\n",
       "\n",
       "    .dataframe thead th {\n",
       "        text-align: right;\n",
       "    }\n",
       "</style>\n",
       "<table border=\"1\" class=\"dataframe\">\n",
       "  <thead>\n",
       "    <tr style=\"text-align: right;\">\n",
       "      <th></th>\n",
       "      <th>Year</th>\n",
       "      <th>original order</th>\n",
       "    </tr>\n",
       "  </thead>\n",
       "  <tbody>\n",
       "    <tr>\n",
       "      <th>count</th>\n",
       "      <td>6300.000000</td>\n",
       "      <td>6309.000000</td>\n",
       "    </tr>\n",
       "    <tr>\n",
       "      <th>mean</th>\n",
       "      <td>1927.272381</td>\n",
       "      <td>3155.999683</td>\n",
       "    </tr>\n",
       "    <tr>\n",
       "      <th>std</th>\n",
       "      <td>281.116308</td>\n",
       "      <td>1821.396206</td>\n",
       "    </tr>\n",
       "    <tr>\n",
       "      <th>min</th>\n",
       "      <td>0.000000</td>\n",
       "      <td>2.000000</td>\n",
       "    </tr>\n",
       "    <tr>\n",
       "      <th>25%</th>\n",
       "      <td>1942.000000</td>\n",
       "      <td>1579.000000</td>\n",
       "    </tr>\n",
       "    <tr>\n",
       "      <th>50%</th>\n",
       "      <td>1977.000000</td>\n",
       "      <td>3156.000000</td>\n",
       "    </tr>\n",
       "    <tr>\n",
       "      <th>75%</th>\n",
       "      <td>2005.000000</td>\n",
       "      <td>4733.000000</td>\n",
       "    </tr>\n",
       "    <tr>\n",
       "      <th>max</th>\n",
       "      <td>2018.000000</td>\n",
       "      <td>6310.000000</td>\n",
       "    </tr>\n",
       "  </tbody>\n",
       "</table>\n",
       "</div>"
      ],
      "text/plain": [
       "              Year  original order\n",
       "count  6300.000000     6309.000000\n",
       "mean   1927.272381     3155.999683\n",
       "std     281.116308     1821.396206\n",
       "min       0.000000        2.000000\n",
       "25%    1942.000000     1579.000000\n",
       "50%    1977.000000     3156.000000\n",
       "75%    2005.000000     4733.000000\n",
       "max    2018.000000     6310.000000"
      ]
     },
     "execution_count": 6,
     "metadata": {},
     "output_type": "execute_result"
    }
   ],
   "source": [
    "sharks.describe()"
   ]
  },
  {
   "cell_type": "code",
   "execution_count": null,
   "metadata": {},
   "outputs": [],
   "source": []
  },
  {
   "cell_type": "markdown",
   "metadata": {},
   "source": [
    "# Premilimary cleasing"
   ]
  },
  {
   "cell_type": "markdown",
   "metadata": {},
   "source": [
    "> We backed up the data so we don't lose any valuable information"
   ]
  },
  {
   "cell_type": "code",
   "execution_count": 8,
   "metadata": {},
   "outputs": [],
   "source": [
    "sharks_copy = sharks.copy()"
   ]
  },
  {
   "cell_type": "markdown",
   "metadata": {},
   "source": [
    "> We started out by removing empty columns"
   ]
  },
  {
   "cell_type": "code",
   "execution_count": 9,
   "metadata": {},
   "outputs": [],
   "source": [
    "sharks_copy = sharks_copy.drop(['Unnamed: 22','Unnamed: 23'], axis=1)"
   ]
  },
  {
   "cell_type": "markdown",
   "metadata": {},
   "source": [
    "> Then we removed all rows with missing values"
   ]
  },
  {
   "cell_type": "code",
   "execution_count": 10,
   "metadata": {},
   "outputs": [],
   "source": [
    "missing_values_mask = sharks_copy.isna().all(axis=1)"
   ]
  },
  {
   "cell_type": "markdown",
   "metadata": {},
   "source": [
    "> We then identified the index numbers containing any NaN"
   ]
  },
  {
   "cell_type": "code",
   "execution_count": 11,
   "metadata": {},
   "outputs": [],
   "source": [
    "empty_rows = sharks_copy.loc[missing_values_mask, :].index"
   ]
  },
  {
   "cell_type": "markdown",
   "metadata": {},
   "source": [
    "> And dropped it"
   ]
  },
  {
   "cell_type": "code",
   "execution_count": 12,
   "metadata": {},
   "outputs": [],
   "source": [
    "sharks_copy = sharks_copy.drop(empty_rows)"
   ]
  },
  {
   "cell_type": "markdown",
   "metadata": {},
   "source": [
    "> We found that some lines had more NaN than actual information, also that these lines had only values in columns that doesn't say a whole lot about the incidents, such as 'Case Number' and 'original order', and we decided to drop it out"
   ]
  },
  {
   "cell_type": "code",
   "execution_count": 13,
   "metadata": {},
   "outputs": [],
   "source": [
    "useless_rows = sharks_copy.loc[sharks_copy.iloc[:,1:-1].isna().all(axis=1),:].index"
   ]
  },
  {
   "cell_type": "code",
   "execution_count": 14,
   "metadata": {},
   "outputs": [],
   "source": [
    "sharks_copy = sharks_copy.drop(useless_rows)"
   ]
  },
  {
   "cell_type": "markdown",
   "metadata": {},
   "source": [
    "> We also cleaned up what seemed to be some typos in the 'Type' column"
   ]
  },
  {
   "cell_type": "code",
   "execution_count": 15,
   "metadata": {},
   "outputs": [
    {
     "data": {
      "text/plain": [
       "array(['Boating', 'Unprovoked', 'Invalid', 'Provoked', 'Questionable',\n",
       "       'Sea Disaster', nan, 'Boat', 'Boatomg'], dtype=object)"
      ]
     },
     "execution_count": 15,
     "metadata": {},
     "output_type": "execute_result"
    }
   ],
   "source": [
    "sharks_copy['Type'].unique()"
   ]
  },
  {
   "cell_type": "code",
   "execution_count": 16,
   "metadata": {},
   "outputs": [],
   "source": [
    "sharks_copy = sharks_copy.replace(to_replace=['Boating','Boatomg'], value = 'Boat')"
   ]
  },
  {
   "cell_type": "code",
   "execution_count": null,
   "metadata": {},
   "outputs": [],
   "source": []
  },
  {
   "cell_type": "markdown",
   "metadata": {},
   "source": [
    "## The Data Frame so far"
   ]
  },
  {
   "cell_type": "code",
   "execution_count": 17,
   "metadata": {},
   "outputs": [
    {
     "data": {
      "text/html": [
       "<div>\n",
       "<style scoped>\n",
       "    .dataframe tbody tr th:only-of-type {\n",
       "        vertical-align: middle;\n",
       "    }\n",
       "\n",
       "    .dataframe tbody tr th {\n",
       "        vertical-align: top;\n",
       "    }\n",
       "\n",
       "    .dataframe thead th {\n",
       "        text-align: right;\n",
       "    }\n",
       "</style>\n",
       "<table border=\"1\" class=\"dataframe\">\n",
       "  <thead>\n",
       "    <tr style=\"text-align: right;\">\n",
       "      <th></th>\n",
       "      <th>Case Number</th>\n",
       "      <th>Date</th>\n",
       "      <th>Year</th>\n",
       "      <th>Type</th>\n",
       "      <th>Country</th>\n",
       "      <th>Area</th>\n",
       "      <th>Location</th>\n",
       "      <th>Activity</th>\n",
       "      <th>Name</th>\n",
       "      <th>Sex</th>\n",
       "      <th>Age</th>\n",
       "      <th>Injury</th>\n",
       "      <th>Fatal (Y/N)</th>\n",
       "      <th>Time</th>\n",
       "      <th>Species</th>\n",
       "      <th>Investigator or Source</th>\n",
       "      <th>pdf</th>\n",
       "      <th>href formula</th>\n",
       "      <th>href</th>\n",
       "      <th>Case Number.1</th>\n",
       "      <th>Case Number.2</th>\n",
       "      <th>original order</th>\n",
       "    </tr>\n",
       "  </thead>\n",
       "  <tbody>\n",
       "    <tr>\n",
       "      <th>0</th>\n",
       "      <td>2018.06.25</td>\n",
       "      <td>25-Jun-2018</td>\n",
       "      <td>2018.0</td>\n",
       "      <td>Boat</td>\n",
       "      <td>USA</td>\n",
       "      <td>California</td>\n",
       "      <td>Oceanside, San Diego County</td>\n",
       "      <td>Paddling</td>\n",
       "      <td>Julie Wolfe</td>\n",
       "      <td>F</td>\n",
       "      <td>57</td>\n",
       "      <td>No injury to occupant, outrigger canoe and pad...</td>\n",
       "      <td>N</td>\n",
       "      <td>18h00</td>\n",
       "      <td>White shark</td>\n",
       "      <td>R. Collier, GSAF</td>\n",
       "      <td>2018.06.25-Wolfe.pdf</td>\n",
       "      <td>http://sharkattackfile.net/spreadsheets/pdf_di...</td>\n",
       "      <td>http://sharkattackfile.net/spreadsheets/pdf_di...</td>\n",
       "      <td>2018.06.25</td>\n",
       "      <td>2018.06.25</td>\n",
       "      <td>6303.0</td>\n",
       "    </tr>\n",
       "    <tr>\n",
       "      <th>1</th>\n",
       "      <td>2018.06.18</td>\n",
       "      <td>18-Jun-2018</td>\n",
       "      <td>2018.0</td>\n",
       "      <td>Unprovoked</td>\n",
       "      <td>USA</td>\n",
       "      <td>Georgia</td>\n",
       "      <td>St. Simon Island, Glynn County</td>\n",
       "      <td>Standing</td>\n",
       "      <td>AdysonáMcNeely</td>\n",
       "      <td>F</td>\n",
       "      <td>11</td>\n",
       "      <td>Minor injury to left thigh</td>\n",
       "      <td>N</td>\n",
       "      <td>14h00  -15h00</td>\n",
       "      <td>NaN</td>\n",
       "      <td>K.McMurray, TrackingSharks.com</td>\n",
       "      <td>2018.06.18-McNeely.pdf</td>\n",
       "      <td>http://sharkattackfile.net/spreadsheets/pdf_di...</td>\n",
       "      <td>http://sharkattackfile.net/spreadsheets/pdf_di...</td>\n",
       "      <td>2018.06.18</td>\n",
       "      <td>2018.06.18</td>\n",
       "      <td>6302.0</td>\n",
       "    </tr>\n",
       "    <tr>\n",
       "      <th>2</th>\n",
       "      <td>2018.06.09</td>\n",
       "      <td>09-Jun-2018</td>\n",
       "      <td>2018.0</td>\n",
       "      <td>Invalid</td>\n",
       "      <td>USA</td>\n",
       "      <td>Hawaii</td>\n",
       "      <td>Habush, Oahu</td>\n",
       "      <td>Surfing</td>\n",
       "      <td>John Denges</td>\n",
       "      <td>M</td>\n",
       "      <td>48</td>\n",
       "      <td>Injury to left lower leg from surfboard skeg</td>\n",
       "      <td>N</td>\n",
       "      <td>07h45</td>\n",
       "      <td>NaN</td>\n",
       "      <td>K.McMurray, TrackingSharks.com</td>\n",
       "      <td>2018.06.09-Denges.pdf</td>\n",
       "      <td>http://sharkattackfile.net/spreadsheets/pdf_di...</td>\n",
       "      <td>http://sharkattackfile.net/spreadsheets/pdf_di...</td>\n",
       "      <td>2018.06.09</td>\n",
       "      <td>2018.06.09</td>\n",
       "      <td>6301.0</td>\n",
       "    </tr>\n",
       "    <tr>\n",
       "      <th>3</th>\n",
       "      <td>2018.06.08</td>\n",
       "      <td>08-Jun-2018</td>\n",
       "      <td>2018.0</td>\n",
       "      <td>Unprovoked</td>\n",
       "      <td>AUSTRALIA</td>\n",
       "      <td>New South Wales</td>\n",
       "      <td>Arrawarra Headland</td>\n",
       "      <td>Surfing</td>\n",
       "      <td>male</td>\n",
       "      <td>M</td>\n",
       "      <td>NaN</td>\n",
       "      <td>Minor injury to lower leg</td>\n",
       "      <td>N</td>\n",
       "      <td>NaN</td>\n",
       "      <td>2 m shark</td>\n",
       "      <td>B. Myatt, GSAF</td>\n",
       "      <td>2018.06.08-Arrawarra.pdf</td>\n",
       "      <td>http://sharkattackfile.net/spreadsheets/pdf_di...</td>\n",
       "      <td>http://sharkattackfile.net/spreadsheets/pdf_di...</td>\n",
       "      <td>2018.06.08</td>\n",
       "      <td>2018.06.08</td>\n",
       "      <td>6300.0</td>\n",
       "    </tr>\n",
       "    <tr>\n",
       "      <th>4</th>\n",
       "      <td>2018.06.04</td>\n",
       "      <td>04-Jun-2018</td>\n",
       "      <td>2018.0</td>\n",
       "      <td>Provoked</td>\n",
       "      <td>MEXICO</td>\n",
       "      <td>Colima</td>\n",
       "      <td>La Ticla</td>\n",
       "      <td>Free diving</td>\n",
       "      <td>Gustavo Ramos</td>\n",
       "      <td>M</td>\n",
       "      <td>NaN</td>\n",
       "      <td>Lacerations to leg &amp; hand shark PROVOKED INCIDENT</td>\n",
       "      <td>N</td>\n",
       "      <td>NaN</td>\n",
       "      <td>Tiger shark, 3m</td>\n",
       "      <td>A .Kipper</td>\n",
       "      <td>2018.06.04-Ramos.pdf</td>\n",
       "      <td>http://sharkattackfile.net/spreadsheets/pdf_di...</td>\n",
       "      <td>http://sharkattackfile.net/spreadsheets/pdf_di...</td>\n",
       "      <td>2018.06.04</td>\n",
       "      <td>2018.06.04</td>\n",
       "      <td>6299.0</td>\n",
       "    </tr>\n",
       "    <tr>\n",
       "      <th>5</th>\n",
       "      <td>2018.06.03.b</td>\n",
       "      <td>03-Jun-2018</td>\n",
       "      <td>2018.0</td>\n",
       "      <td>Unprovoked</td>\n",
       "      <td>AUSTRALIA</td>\n",
       "      <td>New South Wales</td>\n",
       "      <td>Flat Rock, Ballina</td>\n",
       "      <td>Kite surfing</td>\n",
       "      <td>Chris à</td>\n",
       "      <td>M</td>\n",
       "      <td>NaN</td>\n",
       "      <td>No injury, board bitten</td>\n",
       "      <td>N</td>\n",
       "      <td>NaN</td>\n",
       "      <td>NaN</td>\n",
       "      <td>Daily Telegraph, 6/4/2018</td>\n",
       "      <td>2018.06.03.b-FlatRock.pdf</td>\n",
       "      <td>http://sharkattackfile.net/spreadsheets/pdf_di...</td>\n",
       "      <td>http://sharkattackfile.net/spreadsheets/pdf_di...</td>\n",
       "      <td>2018.06.03.b</td>\n",
       "      <td>2018.06.03.b</td>\n",
       "      <td>6298.0</td>\n",
       "    </tr>\n",
       "    <tr>\n",
       "      <th>6</th>\n",
       "      <td>2018.06.03.a</td>\n",
       "      <td>03-Jun-2018</td>\n",
       "      <td>2018.0</td>\n",
       "      <td>Unprovoked</td>\n",
       "      <td>BRAZIL</td>\n",
       "      <td>Pernambuco</td>\n",
       "      <td>Piedade Beach, Recife</td>\n",
       "      <td>Swimming</td>\n",
       "      <td>Jose Ernesto da Silva</td>\n",
       "      <td>M</td>\n",
       "      <td>18</td>\n",
       "      <td>FATAL</td>\n",
       "      <td>Y</td>\n",
       "      <td>Late afternoon</td>\n",
       "      <td>Tiger shark</td>\n",
       "      <td>Diario de Pernambuco, 6/4/2018</td>\n",
       "      <td>2018.06.03.a-daSilva.pdf</td>\n",
       "      <td>http://sharkattackfile.net/spreadsheets/pdf_di...</td>\n",
       "      <td>http://sharkattackfile.net/spreadsheets/pdf_di...</td>\n",
       "      <td>2018.06.03.a</td>\n",
       "      <td>2018.06.03.a</td>\n",
       "      <td>6297.0</td>\n",
       "    </tr>\n",
       "    <tr>\n",
       "      <th>7</th>\n",
       "      <td>2018.05.27</td>\n",
       "      <td>27-May-2018</td>\n",
       "      <td>2018.0</td>\n",
       "      <td>Unprovoked</td>\n",
       "      <td>USA</td>\n",
       "      <td>Florida</td>\n",
       "      <td>Lighhouse Point Park, Ponce Inlet, Volusia County</td>\n",
       "      <td>Fishing</td>\n",
       "      <td>male</td>\n",
       "      <td>M</td>\n",
       "      <td>52</td>\n",
       "      <td>Minor injury to foot. PROVOKED INCIDENT</td>\n",
       "      <td>N</td>\n",
       "      <td>NaN</td>\n",
       "      <td>Lemon shark, 3'</td>\n",
       "      <td>K. McMurray, TrackingSharks.com</td>\n",
       "      <td>2018.05.27-Ponce.pdf</td>\n",
       "      <td>http://sharkattackfile.net/spreadsheets/pdf_di...</td>\n",
       "      <td>http://sharkattackfile.net/spreadsheets/pdf_di...</td>\n",
       "      <td>2018.05.27</td>\n",
       "      <td>2018.05.27</td>\n",
       "      <td>6296.0</td>\n",
       "    </tr>\n",
       "    <tr>\n",
       "      <th>8</th>\n",
       "      <td>2018.05.26.b</td>\n",
       "      <td>26-May-2018</td>\n",
       "      <td>2018.0</td>\n",
       "      <td>Unprovoked</td>\n",
       "      <td>USA</td>\n",
       "      <td>Florida</td>\n",
       "      <td>Cocoa Beach, Brevard  County</td>\n",
       "      <td>Walking</td>\n",
       "      <td>Cody High</td>\n",
       "      <td>M</td>\n",
       "      <td>15</td>\n",
       "      <td>Lower left leg bitten</td>\n",
       "      <td>N</td>\n",
       "      <td>17h00</td>\n",
       "      <td>Bull shark, 6'</td>\n",
       "      <td>K.McMurray, TrackingSharks.com</td>\n",
       "      <td>2018.05.26.b-High.pdf</td>\n",
       "      <td>http://sharkattackfile.net/spreadsheets/pdf_di...</td>\n",
       "      <td>http://sharkattackfile.net/spreadsheets/pdf_di...</td>\n",
       "      <td>2018.05.26.b</td>\n",
       "      <td>2018.05.26.b</td>\n",
       "      <td>6295.0</td>\n",
       "    </tr>\n",
       "    <tr>\n",
       "      <th>9</th>\n",
       "      <td>2018.05.26.a</td>\n",
       "      <td>26-May-2018</td>\n",
       "      <td>2018.0</td>\n",
       "      <td>Unprovoked</td>\n",
       "      <td>USA</td>\n",
       "      <td>Florida</td>\n",
       "      <td>Daytona Beach, Volusia County</td>\n",
       "      <td>Standing</td>\n",
       "      <td>male</td>\n",
       "      <td>M</td>\n",
       "      <td>12</td>\n",
       "      <td>Minor injury to foot</td>\n",
       "      <td>N</td>\n",
       "      <td>14h00</td>\n",
       "      <td>NaN</td>\n",
       "      <td>K. McMurray, Tracking Sharks.com</td>\n",
       "      <td>2018.05.26.a-DaytonaBeach.pdf</td>\n",
       "      <td>http://sharkattackfile.net/spreadsheets/pdf_di...</td>\n",
       "      <td>http://sharkattackfile.net/spreadsheets/pdf_di...</td>\n",
       "      <td>2018.05.26.a</td>\n",
       "      <td>2018.05.26.a</td>\n",
       "      <td>6294.0</td>\n",
       "    </tr>\n",
       "  </tbody>\n",
       "</table>\n",
       "</div>"
      ],
      "text/plain": [
       "    Case Number         Date    Year        Type    Country             Area  \\\n",
       "0    2018.06.25  25-Jun-2018  2018.0        Boat        USA       California   \n",
       "1    2018.06.18  18-Jun-2018  2018.0  Unprovoked        USA          Georgia   \n",
       "2    2018.06.09  09-Jun-2018  2018.0     Invalid        USA           Hawaii   \n",
       "3    2018.06.08  08-Jun-2018  2018.0  Unprovoked  AUSTRALIA  New South Wales   \n",
       "4    2018.06.04  04-Jun-2018  2018.0    Provoked     MEXICO           Colima   \n",
       "5  2018.06.03.b  03-Jun-2018  2018.0  Unprovoked  AUSTRALIA  New South Wales   \n",
       "6  2018.06.03.a  03-Jun-2018  2018.0  Unprovoked     BRAZIL       Pernambuco   \n",
       "7    2018.05.27  27-May-2018  2018.0  Unprovoked        USA          Florida   \n",
       "8  2018.05.26.b  26-May-2018  2018.0  Unprovoked        USA          Florida   \n",
       "9  2018.05.26.a  26-May-2018  2018.0  Unprovoked        USA          Florida   \n",
       "\n",
       "                                            Location      Activity  \\\n",
       "0                        Oceanside, San Diego County      Paddling   \n",
       "1                     St. Simon Island, Glynn County      Standing   \n",
       "2                                       Habush, Oahu       Surfing   \n",
       "3                                 Arrawarra Headland       Surfing   \n",
       "4                                           La Ticla   Free diving   \n",
       "5                                 Flat Rock, Ballina  Kite surfing   \n",
       "6                              Piedade Beach, Recife      Swimming   \n",
       "7  Lighhouse Point Park, Ponce Inlet, Volusia County       Fishing   \n",
       "8                       Cocoa Beach, Brevard  County       Walking   \n",
       "9                      Daytona Beach, Volusia County      Standing   \n",
       "\n",
       "                     Name Sex   Age  \\\n",
       "0             Julie Wolfe    F   57   \n",
       "1         AdysonáMcNeely     F   11   \n",
       "2             John Denges    M   48   \n",
       "3                    male    M  NaN   \n",
       "4          Gustavo Ramos     M  NaN   \n",
       "5                 Chris à    M  NaN   \n",
       "6  Jose Ernesto da Silva     M   18   \n",
       "7                    male    M   52   \n",
       "8               Cody High    M   15   \n",
       "9                    male    M   12   \n",
       "\n",
       "                                              Injury Fatal (Y/N)  \\\n",
       "0  No injury to occupant, outrigger canoe and pad...           N   \n",
       "1                         Minor injury to left thigh           N   \n",
       "2       Injury to left lower leg from surfboard skeg           N   \n",
       "3                          Minor injury to lower leg           N   \n",
       "4  Lacerations to leg & hand shark PROVOKED INCIDENT           N   \n",
       "5                            No injury, board bitten           N   \n",
       "6                                              FATAL           Y   \n",
       "7            Minor injury to foot. PROVOKED INCIDENT           N   \n",
       "8                              Lower left leg bitten           N   \n",
       "9                               Minor injury to foot           N   \n",
       "\n",
       "             Time         Species             Investigator or Source  \\\n",
       "0           18h00      White shark                  R. Collier, GSAF   \n",
       "1   14h00  -15h00              NaN    K.McMurray, TrackingSharks.com   \n",
       "2           07h45              NaN    K.McMurray, TrackingSharks.com   \n",
       "3             NaN        2 m shark                    B. Myatt, GSAF   \n",
       "4             NaN  Tiger shark, 3m                         A .Kipper   \n",
       "5             NaN              NaN         Daily Telegraph, 6/4/2018   \n",
       "6  Late afternoon      Tiger shark    Diario de Pernambuco, 6/4/2018   \n",
       "7             NaN  Lemon shark, 3'   K. McMurray, TrackingSharks.com   \n",
       "8           17h00   Bull shark, 6'    K.McMurray, TrackingSharks.com   \n",
       "9           14h00              NaN  K. McMurray, Tracking Sharks.com   \n",
       "\n",
       "                             pdf  \\\n",
       "0           2018.06.25-Wolfe.pdf   \n",
       "1         2018.06.18-McNeely.pdf   \n",
       "2          2018.06.09-Denges.pdf   \n",
       "3       2018.06.08-Arrawarra.pdf   \n",
       "4           2018.06.04-Ramos.pdf   \n",
       "5      2018.06.03.b-FlatRock.pdf   \n",
       "6       2018.06.03.a-daSilva.pdf   \n",
       "7           2018.05.27-Ponce.pdf   \n",
       "8          2018.05.26.b-High.pdf   \n",
       "9  2018.05.26.a-DaytonaBeach.pdf   \n",
       "\n",
       "                                        href formula  \\\n",
       "0  http://sharkattackfile.net/spreadsheets/pdf_di...   \n",
       "1  http://sharkattackfile.net/spreadsheets/pdf_di...   \n",
       "2  http://sharkattackfile.net/spreadsheets/pdf_di...   \n",
       "3  http://sharkattackfile.net/spreadsheets/pdf_di...   \n",
       "4  http://sharkattackfile.net/spreadsheets/pdf_di...   \n",
       "5  http://sharkattackfile.net/spreadsheets/pdf_di...   \n",
       "6  http://sharkattackfile.net/spreadsheets/pdf_di...   \n",
       "7  http://sharkattackfile.net/spreadsheets/pdf_di...   \n",
       "8  http://sharkattackfile.net/spreadsheets/pdf_di...   \n",
       "9  http://sharkattackfile.net/spreadsheets/pdf_di...   \n",
       "\n",
       "                                                href Case Number.1  \\\n",
       "0  http://sharkattackfile.net/spreadsheets/pdf_di...    2018.06.25   \n",
       "1  http://sharkattackfile.net/spreadsheets/pdf_di...    2018.06.18   \n",
       "2  http://sharkattackfile.net/spreadsheets/pdf_di...    2018.06.09   \n",
       "3  http://sharkattackfile.net/spreadsheets/pdf_di...    2018.06.08   \n",
       "4  http://sharkattackfile.net/spreadsheets/pdf_di...    2018.06.04   \n",
       "5  http://sharkattackfile.net/spreadsheets/pdf_di...  2018.06.03.b   \n",
       "6  http://sharkattackfile.net/spreadsheets/pdf_di...  2018.06.03.a   \n",
       "7  http://sharkattackfile.net/spreadsheets/pdf_di...    2018.05.27   \n",
       "8  http://sharkattackfile.net/spreadsheets/pdf_di...  2018.05.26.b   \n",
       "9  http://sharkattackfile.net/spreadsheets/pdf_di...  2018.05.26.a   \n",
       "\n",
       "  Case Number.2  original order  \n",
       "0    2018.06.25          6303.0  \n",
       "1    2018.06.18          6302.0  \n",
       "2    2018.06.09          6301.0  \n",
       "3    2018.06.08          6300.0  \n",
       "4    2018.06.04          6299.0  \n",
       "5  2018.06.03.b          6298.0  \n",
       "6  2018.06.03.a          6297.0  \n",
       "7    2018.05.27          6296.0  \n",
       "8  2018.05.26.b          6295.0  \n",
       "9  2018.05.26.a          6294.0  "
      ]
     },
     "execution_count": 17,
     "metadata": {},
     "output_type": "execute_result"
    }
   ],
   "source": [
    "sharks_copy.head(10)"
   ]
  },
  {
   "cell_type": "code",
   "execution_count": null,
   "metadata": {},
   "outputs": [],
   "source": []
  },
  {
   "cell_type": "markdown",
   "metadata": {},
   "source": [
    "# The question"
   ]
  },
  {
   "cell_type": "code",
   "execution_count": null,
   "metadata": {},
   "outputs": [],
   "source": []
  },
  {
   "cell_type": "markdown",
   "metadata": {},
   "source": [
    "> Quantas pessoas, que estavam surfando, do sexo masculino tiveram ferimentos fatais causados por tubarões dos anos 1900 até hoje?"
   ]
  },
  {
   "cell_type": "markdown",
   "metadata": {},
   "source": [
    "> [EN] According to the given data, how many male surfers have had fatal injuries caused by sharks from 1900 on?\n",
    ">> [PT] Quantas pessoas, que estavam surfando, do sexo masculino tiveram ferimentos fatais causados por tubarões dos anos 1900 até hoje?"
   ]
  },
  {
   "cell_type": "code",
   "execution_count": null,
   "metadata": {},
   "outputs": [],
   "source": []
  },
  {
   "cell_type": "markdown",
   "metadata": {},
   "source": [
    "## Columns we worked with"
   ]
  },
  {
   "cell_type": "code",
   "execution_count": null,
   "metadata": {},
   "outputs": [],
   "source": []
  },
  {
   "cell_type": "markdown",
   "metadata": {},
   "source": [
    "1. Year\n",
    "2. Fatal (Y/N)\n",
    "3. Sex\n",
    "4. Activity"
   ]
  },
  {
   "cell_type": "markdown",
   "metadata": {},
   "source": [
    "### Cleaning the 'Year' column"
   ]
  },
  {
   "cell_type": "code",
   "execution_count": 18,
   "metadata": {},
   "outputs": [],
   "source": [
    "sharks_copy['Fatal (Y/N)'].fillna('UNKNOWN',inplace=True)"
   ]
  },
  {
   "cell_type": "code",
   "execution_count": 19,
   "metadata": {},
   "outputs": [
    {
     "data": {
      "text/html": [
       "<div>\n",
       "<style scoped>\n",
       "    .dataframe tbody tr th:only-of-type {\n",
       "        vertical-align: middle;\n",
       "    }\n",
       "\n",
       "    .dataframe tbody tr th {\n",
       "        vertical-align: top;\n",
       "    }\n",
       "\n",
       "    .dataframe thead th {\n",
       "        text-align: right;\n",
       "    }\n",
       "</style>\n",
       "<table border=\"1\" class=\"dataframe\">\n",
       "  <thead>\n",
       "    <tr style=\"text-align: right;\">\n",
       "      <th></th>\n",
       "      <th>Case Number</th>\n",
       "      <th>Date</th>\n",
       "      <th>Year</th>\n",
       "      <th>Type</th>\n",
       "      <th>Country</th>\n",
       "      <th>Area</th>\n",
       "      <th>Location</th>\n",
       "      <th>Activity</th>\n",
       "      <th>Name</th>\n",
       "      <th>Sex</th>\n",
       "      <th>Age</th>\n",
       "      <th>Injury</th>\n",
       "      <th>Fatal (Y/N)</th>\n",
       "      <th>Time</th>\n",
       "      <th>Species</th>\n",
       "      <th>Investigator or Source</th>\n",
       "      <th>pdf</th>\n",
       "      <th>href formula</th>\n",
       "      <th>href</th>\n",
       "      <th>Case Number.1</th>\n",
       "      <th>Case Number.2</th>\n",
       "      <th>original order</th>\n",
       "    </tr>\n",
       "  </thead>\n",
       "  <tbody>\n",
       "    <tr>\n",
       "      <th>0</th>\n",
       "      <td>2018.06.25</td>\n",
       "      <td>25-Jun-2018</td>\n",
       "      <td>2018.0</td>\n",
       "      <td>Boat</td>\n",
       "      <td>USA</td>\n",
       "      <td>California</td>\n",
       "      <td>Oceanside, San Diego County</td>\n",
       "      <td>Paddling</td>\n",
       "      <td>Julie Wolfe</td>\n",
       "      <td>F</td>\n",
       "      <td>57</td>\n",
       "      <td>No injury to occupant, outrigger canoe and pad...</td>\n",
       "      <td>N</td>\n",
       "      <td>18h00</td>\n",
       "      <td>White shark</td>\n",
       "      <td>R. Collier, GSAF</td>\n",
       "      <td>2018.06.25-Wolfe.pdf</td>\n",
       "      <td>http://sharkattackfile.net/spreadsheets/pdf_di...</td>\n",
       "      <td>http://sharkattackfile.net/spreadsheets/pdf_di...</td>\n",
       "      <td>2018.06.25</td>\n",
       "      <td>2018.06.25</td>\n",
       "      <td>6303.0</td>\n",
       "    </tr>\n",
       "    <tr>\n",
       "      <th>1</th>\n",
       "      <td>2018.06.18</td>\n",
       "      <td>18-Jun-2018</td>\n",
       "      <td>2018.0</td>\n",
       "      <td>Unprovoked</td>\n",
       "      <td>USA</td>\n",
       "      <td>Georgia</td>\n",
       "      <td>St. Simon Island, Glynn County</td>\n",
       "      <td>Standing</td>\n",
       "      <td>AdysonáMcNeely</td>\n",
       "      <td>F</td>\n",
       "      <td>11</td>\n",
       "      <td>Minor injury to left thigh</td>\n",
       "      <td>N</td>\n",
       "      <td>14h00  -15h00</td>\n",
       "      <td>NaN</td>\n",
       "      <td>K.McMurray, TrackingSharks.com</td>\n",
       "      <td>2018.06.18-McNeely.pdf</td>\n",
       "      <td>http://sharkattackfile.net/spreadsheets/pdf_di...</td>\n",
       "      <td>http://sharkattackfile.net/spreadsheets/pdf_di...</td>\n",
       "      <td>2018.06.18</td>\n",
       "      <td>2018.06.18</td>\n",
       "      <td>6302.0</td>\n",
       "    </tr>\n",
       "    <tr>\n",
       "      <th>2</th>\n",
       "      <td>2018.06.09</td>\n",
       "      <td>09-Jun-2018</td>\n",
       "      <td>2018.0</td>\n",
       "      <td>Invalid</td>\n",
       "      <td>USA</td>\n",
       "      <td>Hawaii</td>\n",
       "      <td>Habush, Oahu</td>\n",
       "      <td>Surfing</td>\n",
       "      <td>John Denges</td>\n",
       "      <td>M</td>\n",
       "      <td>48</td>\n",
       "      <td>Injury to left lower leg from surfboard skeg</td>\n",
       "      <td>N</td>\n",
       "      <td>07h45</td>\n",
       "      <td>NaN</td>\n",
       "      <td>K.McMurray, TrackingSharks.com</td>\n",
       "      <td>2018.06.09-Denges.pdf</td>\n",
       "      <td>http://sharkattackfile.net/spreadsheets/pdf_di...</td>\n",
       "      <td>http://sharkattackfile.net/spreadsheets/pdf_di...</td>\n",
       "      <td>2018.06.09</td>\n",
       "      <td>2018.06.09</td>\n",
       "      <td>6301.0</td>\n",
       "    </tr>\n",
       "    <tr>\n",
       "      <th>3</th>\n",
       "      <td>2018.06.08</td>\n",
       "      <td>08-Jun-2018</td>\n",
       "      <td>2018.0</td>\n",
       "      <td>Unprovoked</td>\n",
       "      <td>AUSTRALIA</td>\n",
       "      <td>New South Wales</td>\n",
       "      <td>Arrawarra Headland</td>\n",
       "      <td>Surfing</td>\n",
       "      <td>male</td>\n",
       "      <td>M</td>\n",
       "      <td>NaN</td>\n",
       "      <td>Minor injury to lower leg</td>\n",
       "      <td>N</td>\n",
       "      <td>NaN</td>\n",
       "      <td>2 m shark</td>\n",
       "      <td>B. Myatt, GSAF</td>\n",
       "      <td>2018.06.08-Arrawarra.pdf</td>\n",
       "      <td>http://sharkattackfile.net/spreadsheets/pdf_di...</td>\n",
       "      <td>http://sharkattackfile.net/spreadsheets/pdf_di...</td>\n",
       "      <td>2018.06.08</td>\n",
       "      <td>2018.06.08</td>\n",
       "      <td>6300.0</td>\n",
       "    </tr>\n",
       "    <tr>\n",
       "      <th>4</th>\n",
       "      <td>2018.06.04</td>\n",
       "      <td>04-Jun-2018</td>\n",
       "      <td>2018.0</td>\n",
       "      <td>Provoked</td>\n",
       "      <td>MEXICO</td>\n",
       "      <td>Colima</td>\n",
       "      <td>La Ticla</td>\n",
       "      <td>Free diving</td>\n",
       "      <td>Gustavo Ramos</td>\n",
       "      <td>M</td>\n",
       "      <td>NaN</td>\n",
       "      <td>Lacerations to leg &amp; hand shark PROVOKED INCIDENT</td>\n",
       "      <td>N</td>\n",
       "      <td>NaN</td>\n",
       "      <td>Tiger shark, 3m</td>\n",
       "      <td>A .Kipper</td>\n",
       "      <td>2018.06.04-Ramos.pdf</td>\n",
       "      <td>http://sharkattackfile.net/spreadsheets/pdf_di...</td>\n",
       "      <td>http://sharkattackfile.net/spreadsheets/pdf_di...</td>\n",
       "      <td>2018.06.04</td>\n",
       "      <td>2018.06.04</td>\n",
       "      <td>6299.0</td>\n",
       "    </tr>\n",
       "    <tr>\n",
       "      <th>5</th>\n",
       "      <td>2018.06.03.b</td>\n",
       "      <td>03-Jun-2018</td>\n",
       "      <td>2018.0</td>\n",
       "      <td>Unprovoked</td>\n",
       "      <td>AUSTRALIA</td>\n",
       "      <td>New South Wales</td>\n",
       "      <td>Flat Rock, Ballina</td>\n",
       "      <td>Kite surfing</td>\n",
       "      <td>Chris à</td>\n",
       "      <td>M</td>\n",
       "      <td>NaN</td>\n",
       "      <td>No injury, board bitten</td>\n",
       "      <td>N</td>\n",
       "      <td>NaN</td>\n",
       "      <td>NaN</td>\n",
       "      <td>Daily Telegraph, 6/4/2018</td>\n",
       "      <td>2018.06.03.b-FlatRock.pdf</td>\n",
       "      <td>http://sharkattackfile.net/spreadsheets/pdf_di...</td>\n",
       "      <td>http://sharkattackfile.net/spreadsheets/pdf_di...</td>\n",
       "      <td>2018.06.03.b</td>\n",
       "      <td>2018.06.03.b</td>\n",
       "      <td>6298.0</td>\n",
       "    </tr>\n",
       "    <tr>\n",
       "      <th>6</th>\n",
       "      <td>2018.06.03.a</td>\n",
       "      <td>03-Jun-2018</td>\n",
       "      <td>2018.0</td>\n",
       "      <td>Unprovoked</td>\n",
       "      <td>BRAZIL</td>\n",
       "      <td>Pernambuco</td>\n",
       "      <td>Piedade Beach, Recife</td>\n",
       "      <td>Swimming</td>\n",
       "      <td>Jose Ernesto da Silva</td>\n",
       "      <td>M</td>\n",
       "      <td>18</td>\n",
       "      <td>FATAL</td>\n",
       "      <td>Y</td>\n",
       "      <td>Late afternoon</td>\n",
       "      <td>Tiger shark</td>\n",
       "      <td>Diario de Pernambuco, 6/4/2018</td>\n",
       "      <td>2018.06.03.a-daSilva.pdf</td>\n",
       "      <td>http://sharkattackfile.net/spreadsheets/pdf_di...</td>\n",
       "      <td>http://sharkattackfile.net/spreadsheets/pdf_di...</td>\n",
       "      <td>2018.06.03.a</td>\n",
       "      <td>2018.06.03.a</td>\n",
       "      <td>6297.0</td>\n",
       "    </tr>\n",
       "    <tr>\n",
       "      <th>7</th>\n",
       "      <td>2018.05.27</td>\n",
       "      <td>27-May-2018</td>\n",
       "      <td>2018.0</td>\n",
       "      <td>Unprovoked</td>\n",
       "      <td>USA</td>\n",
       "      <td>Florida</td>\n",
       "      <td>Lighhouse Point Park, Ponce Inlet, Volusia County</td>\n",
       "      <td>Fishing</td>\n",
       "      <td>male</td>\n",
       "      <td>M</td>\n",
       "      <td>52</td>\n",
       "      <td>Minor injury to foot. PROVOKED INCIDENT</td>\n",
       "      <td>N</td>\n",
       "      <td>NaN</td>\n",
       "      <td>Lemon shark, 3'</td>\n",
       "      <td>K. McMurray, TrackingSharks.com</td>\n",
       "      <td>2018.05.27-Ponce.pdf</td>\n",
       "      <td>http://sharkattackfile.net/spreadsheets/pdf_di...</td>\n",
       "      <td>http://sharkattackfile.net/spreadsheets/pdf_di...</td>\n",
       "      <td>2018.05.27</td>\n",
       "      <td>2018.05.27</td>\n",
       "      <td>6296.0</td>\n",
       "    </tr>\n",
       "    <tr>\n",
       "      <th>8</th>\n",
       "      <td>2018.05.26.b</td>\n",
       "      <td>26-May-2018</td>\n",
       "      <td>2018.0</td>\n",
       "      <td>Unprovoked</td>\n",
       "      <td>USA</td>\n",
       "      <td>Florida</td>\n",
       "      <td>Cocoa Beach, Brevard  County</td>\n",
       "      <td>Walking</td>\n",
       "      <td>Cody High</td>\n",
       "      <td>M</td>\n",
       "      <td>15</td>\n",
       "      <td>Lower left leg bitten</td>\n",
       "      <td>N</td>\n",
       "      <td>17h00</td>\n",
       "      <td>Bull shark, 6'</td>\n",
       "      <td>K.McMurray, TrackingSharks.com</td>\n",
       "      <td>2018.05.26.b-High.pdf</td>\n",
       "      <td>http://sharkattackfile.net/spreadsheets/pdf_di...</td>\n",
       "      <td>http://sharkattackfile.net/spreadsheets/pdf_di...</td>\n",
       "      <td>2018.05.26.b</td>\n",
       "      <td>2018.05.26.b</td>\n",
       "      <td>6295.0</td>\n",
       "    </tr>\n",
       "    <tr>\n",
       "      <th>9</th>\n",
       "      <td>2018.05.26.a</td>\n",
       "      <td>26-May-2018</td>\n",
       "      <td>2018.0</td>\n",
       "      <td>Unprovoked</td>\n",
       "      <td>USA</td>\n",
       "      <td>Florida</td>\n",
       "      <td>Daytona Beach, Volusia County</td>\n",
       "      <td>Standing</td>\n",
       "      <td>male</td>\n",
       "      <td>M</td>\n",
       "      <td>12</td>\n",
       "      <td>Minor injury to foot</td>\n",
       "      <td>N</td>\n",
       "      <td>14h00</td>\n",
       "      <td>NaN</td>\n",
       "      <td>K. McMurray, Tracking Sharks.com</td>\n",
       "      <td>2018.05.26.a-DaytonaBeach.pdf</td>\n",
       "      <td>http://sharkattackfile.net/spreadsheets/pdf_di...</td>\n",
       "      <td>http://sharkattackfile.net/spreadsheets/pdf_di...</td>\n",
       "      <td>2018.05.26.a</td>\n",
       "      <td>2018.05.26.a</td>\n",
       "      <td>6294.0</td>\n",
       "    </tr>\n",
       "    <tr>\n",
       "      <th>10</th>\n",
       "      <td>2018.05.24</td>\n",
       "      <td>24-May-2018</td>\n",
       "      <td>2018.0</td>\n",
       "      <td>Provoked</td>\n",
       "      <td>AUSTRALIA</td>\n",
       "      <td>Queensland</td>\n",
       "      <td>Cairns Aquarium</td>\n",
       "      <td>Feeding sharks</td>\n",
       "      <td>male</td>\n",
       "      <td>M</td>\n",
       "      <td>32</td>\n",
       "      <td>Minor bite to hand by captive shark. PROVOKED ...</td>\n",
       "      <td>N</td>\n",
       "      <td>Morning</td>\n",
       "      <td>Grey reef shark</td>\n",
       "      <td>ABC.net.au ,05/24/2018</td>\n",
       "      <td>2018.05.24-CairnsAquarium.pdf</td>\n",
       "      <td>http://sharkattackfile.net/spreadsheets/pdf_di...</td>\n",
       "      <td>http://sharkattackfile.net/spreadsheets/pdf_di...</td>\n",
       "      <td>2018.05.24</td>\n",
       "      <td>2018.05.24</td>\n",
       "      <td>6293.0</td>\n",
       "    </tr>\n",
       "    <tr>\n",
       "      <th>11</th>\n",
       "      <td>2018.05.21</td>\n",
       "      <td>21-May-2018</td>\n",
       "      <td>2018.0</td>\n",
       "      <td>Unprovoked</td>\n",
       "      <td>USA</td>\n",
       "      <td>South Carolina</td>\n",
       "      <td>Isle of Palms,  Charleston County</td>\n",
       "      <td>Boogie boarding</td>\n",
       "      <td>Trey de Boer</td>\n",
       "      <td>M</td>\n",
       "      <td>10</td>\n",
       "      <td>Injuries to lower right leg and foot</td>\n",
       "      <td>N</td>\n",
       "      <td>NaN</td>\n",
       "      <td>NaN</td>\n",
       "      <td>C. Creswell, GSAF</td>\n",
       "      <td>2018.05.21-deBoer.pdf</td>\n",
       "      <td>http://sharkattackfile.net/spreadsheets/pdf_di...</td>\n",
       "      <td>http://sharkattackfile.net/spreadsheets/pdf_di...</td>\n",
       "      <td>2018.05.21</td>\n",
       "      <td>2018.05.21</td>\n",
       "      <td>6292.0</td>\n",
       "    </tr>\n",
       "    <tr>\n",
       "      <th>12</th>\n",
       "      <td>2018.05.13.b</td>\n",
       "      <td>13-May-2018</td>\n",
       "      <td>2018.0</td>\n",
       "      <td>Unprovoked</td>\n",
       "      <td>USA</td>\n",
       "      <td>South Carolina</td>\n",
       "      <td>Hilton Head Island, Beaufort County</td>\n",
       "      <td>Swimming</td>\n",
       "      <td>Jei Turrell</td>\n",
       "      <td>M</td>\n",
       "      <td>10</td>\n",
       "      <td>Severe bite to right forearm</td>\n",
       "      <td>N</td>\n",
       "      <td>15h00</td>\n",
       "      <td>NaN</td>\n",
       "      <td>C. Creswell, GSAF &amp; K. McMurray TrackingSharks...</td>\n",
       "      <td>2018.05.13.b-Turrell.pdf</td>\n",
       "      <td>http://sharkattackfile.net/spreadsheets/pdf_di...</td>\n",
       "      <td>http://sharkattackfile.net/spreadsheets/pdf_di...</td>\n",
       "      <td>2018.05.13.b</td>\n",
       "      <td>2018.05.13.b</td>\n",
       "      <td>6291.0</td>\n",
       "    </tr>\n",
       "    <tr>\n",
       "      <th>13</th>\n",
       "      <td>2018.05.13.a</td>\n",
       "      <td>13-May-2018</td>\n",
       "      <td>2018.0</td>\n",
       "      <td>Invalid</td>\n",
       "      <td>ENGLAND</td>\n",
       "      <td>Cornwall</td>\n",
       "      <td>Off Land's End</td>\n",
       "      <td>Fishing</td>\n",
       "      <td>Max Berryman</td>\n",
       "      <td>M</td>\n",
       "      <td>21</td>\n",
       "      <td>Injured by teeth of a dead porbeagle shark he ...</td>\n",
       "      <td>N</td>\n",
       "      <td>08h15</td>\n",
       "      <td>Invalid incident</td>\n",
       "      <td>K. McMurray, TrackingSharks.com</td>\n",
       "      <td>2018.05.13.a-Berryman.pdf</td>\n",
       "      <td>http://sharkattackfile.net/spreadsheets/pdf_di...</td>\n",
       "      <td>http://sharkattackfile.net/spreadsheets/pdf_di...</td>\n",
       "      <td>2018.05.13.a</td>\n",
       "      <td>2018.05.13.a</td>\n",
       "      <td>6290.0</td>\n",
       "    </tr>\n",
       "    <tr>\n",
       "      <th>14</th>\n",
       "      <td>2018.05.00</td>\n",
       "      <td>May 2018</td>\n",
       "      <td>2018.0</td>\n",
       "      <td>Provoked</td>\n",
       "      <td>AUSTRALIA</td>\n",
       "      <td>Westerm Australia</td>\n",
       "      <td>Dugong Bay</td>\n",
       "      <td>Feeding sharks</td>\n",
       "      <td>Melisa Brunning</td>\n",
       "      <td>F</td>\n",
       "      <td>34</td>\n",
       "      <td>Shallow lacerations to finger PROVOKED INCIDENT</td>\n",
       "      <td>N</td>\n",
       "      <td>NaN</td>\n",
       "      <td>Tawny nurse shark, 2m</td>\n",
       "      <td>Perth Now, 6/30/2018</td>\n",
       "      <td>2018.05.00-Brunning.pdf</td>\n",
       "      <td>http://sharkattackfile.net/spreadsheets/pdf_di...</td>\n",
       "      <td>http://sharkattackfile.net/spreadsheets/pdf_di...</td>\n",
       "      <td>2018.05.00</td>\n",
       "      <td>2018.05.00</td>\n",
       "      <td>6289.0</td>\n",
       "    </tr>\n",
       "    <tr>\n",
       "      <th>15</th>\n",
       "      <td>2018.05.12</td>\n",
       "      <td>12-May-2018</td>\n",
       "      <td>2018.0</td>\n",
       "      <td>Unprovoked</td>\n",
       "      <td>SOUTH AFRICA</td>\n",
       "      <td>Eastern Cape Province</td>\n",
       "      <td>Nahoon Beach, East London</td>\n",
       "      <td>Surfing</td>\n",
       "      <td>male</td>\n",
       "      <td>M</td>\n",
       "      <td>NaN</td>\n",
       "      <td>Minor injury, marks on board</td>\n",
       "      <td>N</td>\n",
       "      <td>11h00</td>\n",
       "      <td>NaN</td>\n",
       "      <td>B.Jacob, Dispatch Live, 5/12/2018</td>\n",
       "      <td>2018.05.12-EastLondon.pdf</td>\n",
       "      <td>http://sharkattackfile.net/spreadsheets/pdf_di...</td>\n",
       "      <td>http://sharkattackfile.net/spreadsheets/pdf_di...</td>\n",
       "      <td>2018.05.12</td>\n",
       "      <td>2018.05.12</td>\n",
       "      <td>6288.0</td>\n",
       "    </tr>\n",
       "    <tr>\n",
       "      <th>16</th>\n",
       "      <td>2018.05.09</td>\n",
       "      <td>09-May-2018</td>\n",
       "      <td>2018.0</td>\n",
       "      <td>Questionable</td>\n",
       "      <td>AUSTRALIA</td>\n",
       "      <td>New South Wales</td>\n",
       "      <td>Sharpes Beach, Ballina</td>\n",
       "      <td>Surfing</td>\n",
       "      <td>male</td>\n",
       "      <td>M</td>\n",
       "      <td>NaN</td>\n",
       "      <td>No injury, surfboard damaged</td>\n",
       "      <td>N</td>\n",
       "      <td>10h30</td>\n",
       "      <td>Shark involvement not confirmed</td>\n",
       "      <td>B. Myatt, GSAF</td>\n",
       "      <td>2018.05.09-SharpesBeach.pdf</td>\n",
       "      <td>http://sharkattackfile.net/spreadsheets/pdf_di...</td>\n",
       "      <td>http://sharkattackfile.net/spreadsheets/pdf_di...</td>\n",
       "      <td>2018.05.09</td>\n",
       "      <td>2018.05.09</td>\n",
       "      <td>6287.0</td>\n",
       "    </tr>\n",
       "    <tr>\n",
       "      <th>17</th>\n",
       "      <td>2018.04.30.R</td>\n",
       "      <td>Reported 30-Apr-2018</td>\n",
       "      <td>2018.0</td>\n",
       "      <td>Unprovoked</td>\n",
       "      <td>THAILAND</td>\n",
       "      <td>Hua Hin</td>\n",
       "      <td>Sai Noi Beach</td>\n",
       "      <td>Swimming</td>\n",
       "      <td>female</td>\n",
       "      <td>M</td>\n",
       "      <td>NaN</td>\n",
       "      <td>Minor injury to ankle</td>\n",
       "      <td>N</td>\n",
       "      <td>NaN</td>\n",
       "      <td>NaN</td>\n",
       "      <td>K. McMurray, TrackingSharks.com</td>\n",
       "      <td>2018.04.30.R-Thailand.pdf</td>\n",
       "      <td>http://sharkattackfile.net/spreadsheets/pdf_di...</td>\n",
       "      <td>http://sharkattackfile.net/spreadsheets/pdf_di...</td>\n",
       "      <td>2018.04.30.R</td>\n",
       "      <td>2018.04.30.R</td>\n",
       "      <td>6286.0</td>\n",
       "    </tr>\n",
       "    <tr>\n",
       "      <th>18</th>\n",
       "      <td>2018.04.28.b</td>\n",
       "      <td>28-Apr-2018</td>\n",
       "      <td>2018.0</td>\n",
       "      <td>Unprovoked</td>\n",
       "      <td>COSTA RICA</td>\n",
       "      <td>Cocos Island</td>\n",
       "      <td>Manuelita</td>\n",
       "      <td>Scuba diving</td>\n",
       "      <td>male</td>\n",
       "      <td>M</td>\n",
       "      <td>30</td>\n",
       "      <td>No injury, shark bit scuba gear</td>\n",
       "      <td>N</td>\n",
       "      <td>10h40</td>\n",
       "      <td>Tiger shark</td>\n",
       "      <td>Costa Rica Star. 4/28/2018</td>\n",
       "      <td>2018.04.28.b-CostaRica.pdf</td>\n",
       "      <td>http://sharkattackfile.net/spreadsheets/pdf_di...</td>\n",
       "      <td>http://sharkattackfile.net/spreadsheets/pdf_di...</td>\n",
       "      <td>2018.04.28.b</td>\n",
       "      <td>2018.04.28.b</td>\n",
       "      <td>6285.0</td>\n",
       "    </tr>\n",
       "    <tr>\n",
       "      <th>19</th>\n",
       "      <td>2018.04.28.a</td>\n",
       "      <td>28-Apr-2018</td>\n",
       "      <td>2018.0</td>\n",
       "      <td>Unprovoked</td>\n",
       "      <td>AUSTRALIA</td>\n",
       "      <td>Western Australia</td>\n",
       "      <td>Gearys Beach</td>\n",
       "      <td>Surfing</td>\n",
       "      <td>Adam Murray</td>\n",
       "      <td>M</td>\n",
       "      <td>NaN</td>\n",
       "      <td>No injury, knocked off board by shark</td>\n",
       "      <td>N</td>\n",
       "      <td>16h50</td>\n",
       "      <td>NaN</td>\n",
       "      <td>B. Myatt, GSAF</td>\n",
       "      <td>2018.04.28.a-Murray.pdf</td>\n",
       "      <td>http://sharkattackfile.net/spreadsheets/pdf_di...</td>\n",
       "      <td>http://sharkattackfile.net/spreadsheets/pdf_di...</td>\n",
       "      <td>2018.04.28.a</td>\n",
       "      <td>2018.04.28.a</td>\n",
       "      <td>6284.0</td>\n",
       "    </tr>\n",
       "  </tbody>\n",
       "</table>\n",
       "</div>"
      ],
      "text/plain": [
       "     Case Number                  Date    Year          Type       Country  \\\n",
       "0     2018.06.25           25-Jun-2018  2018.0          Boat           USA   \n",
       "1     2018.06.18           18-Jun-2018  2018.0    Unprovoked           USA   \n",
       "2     2018.06.09           09-Jun-2018  2018.0       Invalid           USA   \n",
       "3     2018.06.08           08-Jun-2018  2018.0    Unprovoked     AUSTRALIA   \n",
       "4     2018.06.04           04-Jun-2018  2018.0      Provoked        MEXICO   \n",
       "5   2018.06.03.b           03-Jun-2018  2018.0    Unprovoked     AUSTRALIA   \n",
       "6   2018.06.03.a           03-Jun-2018  2018.0    Unprovoked        BRAZIL   \n",
       "7     2018.05.27           27-May-2018  2018.0    Unprovoked           USA   \n",
       "8   2018.05.26.b           26-May-2018  2018.0    Unprovoked           USA   \n",
       "9   2018.05.26.a           26-May-2018  2018.0    Unprovoked           USA   \n",
       "10    2018.05.24           24-May-2018  2018.0      Provoked     AUSTRALIA   \n",
       "11    2018.05.21           21-May-2018  2018.0    Unprovoked           USA   \n",
       "12  2018.05.13.b           13-May-2018  2018.0    Unprovoked           USA   \n",
       "13  2018.05.13.a           13-May-2018  2018.0       Invalid       ENGLAND   \n",
       "14    2018.05.00              May 2018  2018.0      Provoked     AUSTRALIA   \n",
       "15    2018.05.12           12-May-2018  2018.0    Unprovoked  SOUTH AFRICA   \n",
       "16    2018.05.09           09-May-2018  2018.0  Questionable     AUSTRALIA   \n",
       "17  2018.04.30.R  Reported 30-Apr-2018  2018.0    Unprovoked      THAILAND   \n",
       "18  2018.04.28.b           28-Apr-2018  2018.0    Unprovoked    COSTA RICA   \n",
       "19  2018.04.28.a           28-Apr-2018  2018.0    Unprovoked     AUSTRALIA   \n",
       "\n",
       "                     Area                                           Location  \\\n",
       "0              California                        Oceanside, San Diego County   \n",
       "1                 Georgia                     St. Simon Island, Glynn County   \n",
       "2                  Hawaii                                       Habush, Oahu   \n",
       "3         New South Wales                                 Arrawarra Headland   \n",
       "4                  Colima                                           La Ticla   \n",
       "5         New South Wales                                 Flat Rock, Ballina   \n",
       "6              Pernambuco                              Piedade Beach, Recife   \n",
       "7                 Florida  Lighhouse Point Park, Ponce Inlet, Volusia County   \n",
       "8                 Florida                       Cocoa Beach, Brevard  County   \n",
       "9                 Florida                      Daytona Beach, Volusia County   \n",
       "10             Queensland                                    Cairns Aquarium   \n",
       "11         South Carolina                  Isle of Palms,  Charleston County   \n",
       "12         South Carolina                Hilton Head Island, Beaufort County   \n",
       "13               Cornwall                                     Off Land's End   \n",
       "14      Westerm Australia                                         Dugong Bay   \n",
       "15  Eastern Cape Province                          Nahoon Beach, East London   \n",
       "16        New South Wales                             Sharpes Beach, Ballina   \n",
       "17                Hua Hin                                      Sai Noi Beach   \n",
       "18           Cocos Island                                          Manuelita   \n",
       "19      Western Australia                                       Gearys Beach   \n",
       "\n",
       "           Activity                    Name Sex   Age  \\\n",
       "0          Paddling             Julie Wolfe    F   57   \n",
       "1          Standing         AdysonáMcNeely     F   11   \n",
       "2           Surfing             John Denges    M   48   \n",
       "3           Surfing                    male    M  NaN   \n",
       "4       Free diving          Gustavo Ramos     M  NaN   \n",
       "5      Kite surfing                 Chris à    M  NaN   \n",
       "6          Swimming  Jose Ernesto da Silva     M   18   \n",
       "7           Fishing                    male    M   52   \n",
       "8           Walking               Cody High    M   15   \n",
       "9          Standing                    male    M   12   \n",
       "10   Feeding sharks                    male    M   32   \n",
       "11  Boogie boarding            Trey de Boer    M   10   \n",
       "12         Swimming             Jei Turrell    M   10   \n",
       "13          Fishing            Max Berryman    M   21   \n",
       "14   Feeding sharks         Melisa Brunning    F   34   \n",
       "15          Surfing                    male    M  NaN   \n",
       "16          Surfing                    male    M  NaN   \n",
       "17         Swimming                  female    M  NaN   \n",
       "18     Scuba diving                    male    M   30   \n",
       "19          Surfing             Adam Murray    M  NaN   \n",
       "\n",
       "                                               Injury Fatal (Y/N)  \\\n",
       "0   No injury to occupant, outrigger canoe and pad...           N   \n",
       "1                          Minor injury to left thigh           N   \n",
       "2        Injury to left lower leg from surfboard skeg           N   \n",
       "3                           Minor injury to lower leg           N   \n",
       "4   Lacerations to leg & hand shark PROVOKED INCIDENT           N   \n",
       "5                             No injury, board bitten           N   \n",
       "6                                               FATAL           Y   \n",
       "7             Minor injury to foot. PROVOKED INCIDENT           N   \n",
       "8                               Lower left leg bitten           N   \n",
       "9                                Minor injury to foot           N   \n",
       "10  Minor bite to hand by captive shark. PROVOKED ...           N   \n",
       "11               Injuries to lower right leg and foot           N   \n",
       "12                       Severe bite to right forearm           N   \n",
       "13  Injured by teeth of a dead porbeagle shark he ...           N   \n",
       "14    Shallow lacerations to finger PROVOKED INCIDENT           N   \n",
       "15                       Minor injury, marks on board           N   \n",
       "16                       No injury, surfboard damaged           N   \n",
       "17                              Minor injury to ankle           N   \n",
       "18                    No injury, shark bit scuba gear           N   \n",
       "19              No injury, knocked off board by shark           N   \n",
       "\n",
       "              Time                         Species   \\\n",
       "0            18h00                      White shark   \n",
       "1    14h00  -15h00                              NaN   \n",
       "2            07h45                              NaN   \n",
       "3              NaN                        2 m shark   \n",
       "4              NaN                  Tiger shark, 3m   \n",
       "5              NaN                              NaN   \n",
       "6   Late afternoon                      Tiger shark   \n",
       "7              NaN                  Lemon shark, 3'   \n",
       "8            17h00                   Bull shark, 6'   \n",
       "9            14h00                              NaN   \n",
       "10         Morning                  Grey reef shark   \n",
       "11             NaN                              NaN   \n",
       "12           15h00                              NaN   \n",
       "13           08h15                 Invalid incident   \n",
       "14             NaN            Tawny nurse shark, 2m   \n",
       "15           11h00                              NaN   \n",
       "16           10h30  Shark involvement not confirmed   \n",
       "17             NaN                              NaN   \n",
       "18           10h40                      Tiger shark   \n",
       "19           16h50                              NaN   \n",
       "\n",
       "                               Investigator or Source  \\\n",
       "0                                    R. Collier, GSAF   \n",
       "1                      K.McMurray, TrackingSharks.com   \n",
       "2                      K.McMurray, TrackingSharks.com   \n",
       "3                                      B. Myatt, GSAF   \n",
       "4                                           A .Kipper   \n",
       "5                           Daily Telegraph, 6/4/2018   \n",
       "6                      Diario de Pernambuco, 6/4/2018   \n",
       "7                     K. McMurray, TrackingSharks.com   \n",
       "8                      K.McMurray, TrackingSharks.com   \n",
       "9                    K. McMurray, Tracking Sharks.com   \n",
       "10                             ABC.net.au ,05/24/2018   \n",
       "11                                  C. Creswell, GSAF   \n",
       "12  C. Creswell, GSAF & K. McMurray TrackingSharks...   \n",
       "13                    K. McMurray, TrackingSharks.com   \n",
       "14                               Perth Now, 6/30/2018   \n",
       "15                  B.Jacob, Dispatch Live, 5/12/2018   \n",
       "16                                     B. Myatt, GSAF   \n",
       "17                    K. McMurray, TrackingSharks.com   \n",
       "18                         Costa Rica Star. 4/28/2018   \n",
       "19                                     B. Myatt, GSAF   \n",
       "\n",
       "                              pdf  \\\n",
       "0            2018.06.25-Wolfe.pdf   \n",
       "1          2018.06.18-McNeely.pdf   \n",
       "2           2018.06.09-Denges.pdf   \n",
       "3        2018.06.08-Arrawarra.pdf   \n",
       "4            2018.06.04-Ramos.pdf   \n",
       "5       2018.06.03.b-FlatRock.pdf   \n",
       "6        2018.06.03.a-daSilva.pdf   \n",
       "7            2018.05.27-Ponce.pdf   \n",
       "8           2018.05.26.b-High.pdf   \n",
       "9   2018.05.26.a-DaytonaBeach.pdf   \n",
       "10  2018.05.24-CairnsAquarium.pdf   \n",
       "11          2018.05.21-deBoer.pdf   \n",
       "12       2018.05.13.b-Turrell.pdf   \n",
       "13      2018.05.13.a-Berryman.pdf   \n",
       "14        2018.05.00-Brunning.pdf   \n",
       "15      2018.05.12-EastLondon.pdf   \n",
       "16    2018.05.09-SharpesBeach.pdf   \n",
       "17      2018.04.30.R-Thailand.pdf   \n",
       "18     2018.04.28.b-CostaRica.pdf   \n",
       "19        2018.04.28.a-Murray.pdf   \n",
       "\n",
       "                                         href formula  \\\n",
       "0   http://sharkattackfile.net/spreadsheets/pdf_di...   \n",
       "1   http://sharkattackfile.net/spreadsheets/pdf_di...   \n",
       "2   http://sharkattackfile.net/spreadsheets/pdf_di...   \n",
       "3   http://sharkattackfile.net/spreadsheets/pdf_di...   \n",
       "4   http://sharkattackfile.net/spreadsheets/pdf_di...   \n",
       "5   http://sharkattackfile.net/spreadsheets/pdf_di...   \n",
       "6   http://sharkattackfile.net/spreadsheets/pdf_di...   \n",
       "7   http://sharkattackfile.net/spreadsheets/pdf_di...   \n",
       "8   http://sharkattackfile.net/spreadsheets/pdf_di...   \n",
       "9   http://sharkattackfile.net/spreadsheets/pdf_di...   \n",
       "10  http://sharkattackfile.net/spreadsheets/pdf_di...   \n",
       "11  http://sharkattackfile.net/spreadsheets/pdf_di...   \n",
       "12  http://sharkattackfile.net/spreadsheets/pdf_di...   \n",
       "13  http://sharkattackfile.net/spreadsheets/pdf_di...   \n",
       "14  http://sharkattackfile.net/spreadsheets/pdf_di...   \n",
       "15  http://sharkattackfile.net/spreadsheets/pdf_di...   \n",
       "16  http://sharkattackfile.net/spreadsheets/pdf_di...   \n",
       "17  http://sharkattackfile.net/spreadsheets/pdf_di...   \n",
       "18  http://sharkattackfile.net/spreadsheets/pdf_di...   \n",
       "19  http://sharkattackfile.net/spreadsheets/pdf_di...   \n",
       "\n",
       "                                                 href Case Number.1  \\\n",
       "0   http://sharkattackfile.net/spreadsheets/pdf_di...    2018.06.25   \n",
       "1   http://sharkattackfile.net/spreadsheets/pdf_di...    2018.06.18   \n",
       "2   http://sharkattackfile.net/spreadsheets/pdf_di...    2018.06.09   \n",
       "3   http://sharkattackfile.net/spreadsheets/pdf_di...    2018.06.08   \n",
       "4   http://sharkattackfile.net/spreadsheets/pdf_di...    2018.06.04   \n",
       "5   http://sharkattackfile.net/spreadsheets/pdf_di...  2018.06.03.b   \n",
       "6   http://sharkattackfile.net/spreadsheets/pdf_di...  2018.06.03.a   \n",
       "7   http://sharkattackfile.net/spreadsheets/pdf_di...    2018.05.27   \n",
       "8   http://sharkattackfile.net/spreadsheets/pdf_di...  2018.05.26.b   \n",
       "9   http://sharkattackfile.net/spreadsheets/pdf_di...  2018.05.26.a   \n",
       "10  http://sharkattackfile.net/spreadsheets/pdf_di...    2018.05.24   \n",
       "11  http://sharkattackfile.net/spreadsheets/pdf_di...    2018.05.21   \n",
       "12  http://sharkattackfile.net/spreadsheets/pdf_di...  2018.05.13.b   \n",
       "13  http://sharkattackfile.net/spreadsheets/pdf_di...  2018.05.13.a   \n",
       "14  http://sharkattackfile.net/spreadsheets/pdf_di...    2018.05.00   \n",
       "15  http://sharkattackfile.net/spreadsheets/pdf_di...    2018.05.12   \n",
       "16  http://sharkattackfile.net/spreadsheets/pdf_di...    2018.05.09   \n",
       "17  http://sharkattackfile.net/spreadsheets/pdf_di...  2018.04.30.R   \n",
       "18  http://sharkattackfile.net/spreadsheets/pdf_di...  2018.04.28.b   \n",
       "19  http://sharkattackfile.net/spreadsheets/pdf_di...  2018.04.28.a   \n",
       "\n",
       "   Case Number.2  original order  \n",
       "0     2018.06.25          6303.0  \n",
       "1     2018.06.18          6302.0  \n",
       "2     2018.06.09          6301.0  \n",
       "3     2018.06.08          6300.0  \n",
       "4     2018.06.04          6299.0  \n",
       "5   2018.06.03.b          6298.0  \n",
       "6   2018.06.03.a          6297.0  \n",
       "7     2018.05.27          6296.0  \n",
       "8   2018.05.26.b          6295.0  \n",
       "9   2018.05.26.a          6294.0  \n",
       "10    2018.05.24          6293.0  \n",
       "11    2018.05.21          6292.0  \n",
       "12  2018.05.13.b          6291.0  \n",
       "13  2018.05.13.a          6290.0  \n",
       "14    2018.05.00          6289.0  \n",
       "15    2018.05.12          6288.0  \n",
       "16    2018.05.09          6287.0  \n",
       "17  2018.04.30.R          6286.0  \n",
       "18  2018.04.28.b          6285.0  \n",
       "19  2018.04.28.a          6284.0  "
      ]
     },
     "execution_count": 19,
     "metadata": {},
     "output_type": "execute_result"
    }
   ],
   "source": [
    "sharks_copy.head(20)"
   ]
  },
  {
   "cell_type": "code",
   "execution_count": 20,
   "metadata": {},
   "outputs": [
    {
     "data": {
      "text/plain": [
       "array(['N', 'Y', 'UNKNOWN', 'M', '2017', ' N', 'N ', 'y'], dtype=object)"
      ]
     },
     "execution_count": 20,
     "metadata": {},
     "output_type": "execute_result"
    }
   ],
   "source": [
    "sharks_copy['Fatal (Y/N)'].unique()"
   ]
  },
  {
   "cell_type": "code",
   "execution_count": 21,
   "metadata": {
    "scrolled": true
   },
   "outputs": [
    {
     "data": {
      "text/html": [
       "<div>\n",
       "<style scoped>\n",
       "    .dataframe tbody tr th:only-of-type {\n",
       "        vertical-align: middle;\n",
       "    }\n",
       "\n",
       "    .dataframe tbody tr th {\n",
       "        vertical-align: top;\n",
       "    }\n",
       "\n",
       "    .dataframe thead th {\n",
       "        text-align: right;\n",
       "    }\n",
       "</style>\n",
       "<table border=\"1\" class=\"dataframe\">\n",
       "  <thead>\n",
       "    <tr style=\"text-align: right;\">\n",
       "      <th></th>\n",
       "      <th>Case Number</th>\n",
       "      <th>Date</th>\n",
       "      <th>Year</th>\n",
       "      <th>Type</th>\n",
       "      <th>Country</th>\n",
       "      <th>Area</th>\n",
       "      <th>Location</th>\n",
       "      <th>Activity</th>\n",
       "      <th>Name</th>\n",
       "      <th>Sex</th>\n",
       "      <th>Age</th>\n",
       "      <th>Injury</th>\n",
       "      <th>Fatal (Y/N)</th>\n",
       "      <th>Time</th>\n",
       "      <th>Species</th>\n",
       "      <th>Investigator or Source</th>\n",
       "      <th>pdf</th>\n",
       "      <th>href formula</th>\n",
       "      <th>href</th>\n",
       "      <th>Case Number.1</th>\n",
       "      <th>Case Number.2</th>\n",
       "      <th>original order</th>\n",
       "    </tr>\n",
       "  </thead>\n",
       "  <tbody>\n",
       "    <tr>\n",
       "      <th>786</th>\n",
       "      <td>2012.06.10</td>\n",
       "      <td>10-Jun-2012</td>\n",
       "      <td>2012.0</td>\n",
       "      <td>Provoked</td>\n",
       "      <td>ITALY</td>\n",
       "      <td>Sardinia</td>\n",
       "      <td>Muravera</td>\n",
       "      <td>Attempting to rescue an injured &amp; beached shark</td>\n",
       "      <td>Giorgio Zara</td>\n",
       "      <td>M</td>\n",
       "      <td>57</td>\n",
       "      <td>Lower left leg injured PROVOKED ACCIDENT</td>\n",
       "      <td>2017</td>\n",
       "      <td>Morning</td>\n",
       "      <td>Blue shark, 2.5m</td>\n",
       "      <td>D. Puddo, 6/11/2012</td>\n",
       "      <td>2012.06.10-Zara.pdf</td>\n",
       "      <td>http://sharkattackfile.net/spreadsheets/pdf_di...</td>\n",
       "      <td>http://sharkattackfile.net/spreadsheets/pdf_di...</td>\n",
       "      <td>2012.06.10</td>\n",
       "      <td>2012.06.10</td>\n",
       "      <td>5517.0</td>\n",
       "    </tr>\n",
       "  </tbody>\n",
       "</table>\n",
       "</div>"
      ],
      "text/plain": [
       "    Case Number         Date    Year      Type Country      Area  Location  \\\n",
       "786  2012.06.10  10-Jun-2012  2012.0  Provoked   ITALY  Sardinia  Muravera   \n",
       "\n",
       "                                            Activity          Name Sex  Age  \\\n",
       "786  Attempting to rescue an injured & beached shark  Giorgio Zara    M  57   \n",
       "\n",
       "                                       Injury Fatal (Y/N)     Time  \\\n",
       "786  Lower left leg injured PROVOKED ACCIDENT        2017  Morning   \n",
       "\n",
       "             Species  Investigator or Source                  pdf  \\\n",
       "786  Blue shark, 2.5m    D. Puddo, 6/11/2012  2012.06.10-Zara.pdf   \n",
       "\n",
       "                                          href formula  \\\n",
       "786  http://sharkattackfile.net/spreadsheets/pdf_di...   \n",
       "\n",
       "                                                  href Case Number.1  \\\n",
       "786  http://sharkattackfile.net/spreadsheets/pdf_di...    2012.06.10   \n",
       "\n",
       "    Case Number.2  original order  \n",
       "786    2012.06.10          5517.0  "
      ]
     },
     "execution_count": 21,
     "metadata": {},
     "output_type": "execute_result"
    }
   ],
   "source": [
    "checking_num = sharks_copy['Fatal (Y/N)'] == '2017'\n",
    "sharks_copy.loc[checking_num]"
   ]
  },
  {
   "cell_type": "code",
   "execution_count": 22,
   "metadata": {},
   "outputs": [
    {
     "data": {
      "text/plain": [
       "array(['N', 'Y', 'UNKNOWN', 'M', '2017', ' N', 'N ', 'y'], dtype=object)"
      ]
     },
     "execution_count": 22,
     "metadata": {},
     "output_type": "execute_result"
    }
   ],
   "source": [
    "sharks_copy['Fatal (Y/N)'].unique()"
   ]
  },
  {
   "cell_type": "markdown",
   "metadata": {},
   "source": [
    "> We verified that the 'M' and the 2017 values are typos, and cleaned it out"
   ]
  },
  {
   "cell_type": "code",
   "execution_count": 23,
   "metadata": {},
   "outputs": [
    {
     "data": {
      "text/html": [
       "<div>\n",
       "<style scoped>\n",
       "    .dataframe tbody tr th:only-of-type {\n",
       "        vertical-align: middle;\n",
       "    }\n",
       "\n",
       "    .dataframe tbody tr th {\n",
       "        vertical-align: top;\n",
       "    }\n",
       "\n",
       "    .dataframe thead th {\n",
       "        text-align: right;\n",
       "    }\n",
       "</style>\n",
       "<table border=\"1\" class=\"dataframe\">\n",
       "  <thead>\n",
       "    <tr style=\"text-align: right;\">\n",
       "      <th></th>\n",
       "      <th>Injury</th>\n",
       "    </tr>\n",
       "  </thead>\n",
       "  <tbody>\n",
       "    <tr>\n",
       "      <th>285</th>\n",
       "      <td>Laceration to knee by speared shark PROVOKED I...</td>\n",
       "    </tr>\n",
       "  </tbody>\n",
       "</table>\n",
       "</div>"
      ],
      "text/plain": [
       "                                                Injury\n",
       "285  Laceration to knee by speared shark PROVOKED I..."
      ]
     },
     "execution_count": 23,
     "metadata": {},
     "output_type": "execute_result"
    }
   ],
   "source": [
    "sharks_copy.loc[sharks_copy['Fatal (Y/N)'] == 'M',['Injury']]"
   ]
  },
  {
   "cell_type": "code",
   "execution_count": 24,
   "metadata": {},
   "outputs": [
    {
     "data": {
      "text/html": [
       "<div>\n",
       "<style scoped>\n",
       "    .dataframe tbody tr th:only-of-type {\n",
       "        vertical-align: middle;\n",
       "    }\n",
       "\n",
       "    .dataframe tbody tr th {\n",
       "        vertical-align: top;\n",
       "    }\n",
       "\n",
       "    .dataframe thead th {\n",
       "        text-align: right;\n",
       "    }\n",
       "</style>\n",
       "<table border=\"1\" class=\"dataframe\">\n",
       "  <thead>\n",
       "    <tr style=\"text-align: right;\">\n",
       "      <th></th>\n",
       "      <th>Injury</th>\n",
       "    </tr>\n",
       "  </thead>\n",
       "  <tbody>\n",
       "    <tr>\n",
       "      <th>786</th>\n",
       "      <td>Lower left leg injured PROVOKED ACCIDENT</td>\n",
       "    </tr>\n",
       "  </tbody>\n",
       "</table>\n",
       "</div>"
      ],
      "text/plain": [
       "                                       Injury\n",
       "786  Lower left leg injured PROVOKED ACCIDENT"
      ]
     },
     "execution_count": 24,
     "metadata": {},
     "output_type": "execute_result"
    }
   ],
   "source": [
    "sharks_copy.loc[sharks_copy['Fatal (Y/N)'] == '2017',['Injury']]"
   ]
  },
  {
   "cell_type": "code",
   "execution_count": 25,
   "metadata": {},
   "outputs": [],
   "source": [
    "sharks_copy.loc[:,'Fatal (Y/N)'].replace(to_replace=[' N','N ','M', '2017' ], value = 'N', inplace=True)\n",
    "sharks_copy.loc[:,'Fatal (Y/N)'].replace(to_replace=[' N','N ','M', '2017' ], value = 'N', inplace=True)"
   ]
  },
  {
   "cell_type": "markdown",
   "metadata": {},
   "source": [
    "> The result so far"
   ]
  },
  {
   "cell_type": "code",
   "execution_count": 26,
   "metadata": {},
   "outputs": [
    {
     "data": {
      "text/plain": [
       "0       N\n",
       "1       N\n",
       "2       N\n",
       "3       N\n",
       "4       N\n",
       "       ..\n",
       "6297    Y\n",
       "6298    Y\n",
       "6299    Y\n",
       "6300    Y\n",
       "6301    Y\n",
       "Name: Fatal (Y/N), Length: 6302, dtype: object"
      ]
     },
     "execution_count": 26,
     "metadata": {},
     "output_type": "execute_result"
    }
   ],
   "source": [
    "sharks_copy.loc[:,'Fatal (Y/N)'].replace(to_replace='y', value = 'Y') \n",
    "# sharks_copy.head(5)"
   ]
  },
  {
   "cell_type": "code",
   "execution_count": 27,
   "metadata": {},
   "outputs": [
    {
     "data": {
      "text/plain": [
       "0    N\n",
       "1    N\n",
       "2    N\n",
       "3    N\n",
       "4    N\n",
       "5    N\n",
       "6    Y\n",
       "7    N\n",
       "8    N\n",
       "9    N\n",
       "Name: Fatal (Y/N), dtype: object"
      ]
     },
     "execution_count": 27,
     "metadata": {},
     "output_type": "execute_result"
    }
   ],
   "source": [
    "sharks_copy['Fatal (Y/N)'].head(10)"
   ]
  },
  {
   "cell_type": "code",
   "execution_count": 28,
   "metadata": {},
   "outputs": [
    {
     "data": {
      "text/html": [
       "<div>\n",
       "<style scoped>\n",
       "    .dataframe tbody tr th:only-of-type {\n",
       "        vertical-align: middle;\n",
       "    }\n",
       "\n",
       "    .dataframe tbody tr th {\n",
       "        vertical-align: top;\n",
       "    }\n",
       "\n",
       "    .dataframe thead th {\n",
       "        text-align: right;\n",
       "    }\n",
       "</style>\n",
       "<table border=\"1\" class=\"dataframe\">\n",
       "  <thead>\n",
       "    <tr style=\"text-align: right;\">\n",
       "      <th></th>\n",
       "      <th>Case Number</th>\n",
       "      <th>Date</th>\n",
       "      <th>Year</th>\n",
       "      <th>Type</th>\n",
       "      <th>Country</th>\n",
       "      <th>Area</th>\n",
       "      <th>Location</th>\n",
       "      <th>Activity</th>\n",
       "      <th>Name</th>\n",
       "      <th>Sex</th>\n",
       "      <th>Age</th>\n",
       "      <th>Injury</th>\n",
       "      <th>Fatal (Y/N)</th>\n",
       "      <th>Time</th>\n",
       "      <th>Species</th>\n",
       "      <th>Investigator or Source</th>\n",
       "      <th>pdf</th>\n",
       "      <th>href formula</th>\n",
       "      <th>href</th>\n",
       "      <th>Case Number.1</th>\n",
       "      <th>Case Number.2</th>\n",
       "      <th>original order</th>\n",
       "    </tr>\n",
       "  </thead>\n",
       "  <tbody>\n",
       "    <tr>\n",
       "      <th>0</th>\n",
       "      <td>2018.06.25</td>\n",
       "      <td>25-Jun-2018</td>\n",
       "      <td>2018.0</td>\n",
       "      <td>Boat</td>\n",
       "      <td>USA</td>\n",
       "      <td>California</td>\n",
       "      <td>Oceanside, San Diego County</td>\n",
       "      <td>Paddling</td>\n",
       "      <td>Julie Wolfe</td>\n",
       "      <td>F</td>\n",
       "      <td>57</td>\n",
       "      <td>No injury to occupant, outrigger canoe and pad...</td>\n",
       "      <td>N</td>\n",
       "      <td>18h00</td>\n",
       "      <td>White shark</td>\n",
       "      <td>R. Collier, GSAF</td>\n",
       "      <td>2018.06.25-Wolfe.pdf</td>\n",
       "      <td>http://sharkattackfile.net/spreadsheets/pdf_di...</td>\n",
       "      <td>http://sharkattackfile.net/spreadsheets/pdf_di...</td>\n",
       "      <td>2018.06.25</td>\n",
       "      <td>2018.06.25</td>\n",
       "      <td>6303.0</td>\n",
       "    </tr>\n",
       "    <tr>\n",
       "      <th>1</th>\n",
       "      <td>2018.06.18</td>\n",
       "      <td>18-Jun-2018</td>\n",
       "      <td>2018.0</td>\n",
       "      <td>Unprovoked</td>\n",
       "      <td>USA</td>\n",
       "      <td>Georgia</td>\n",
       "      <td>St. Simon Island, Glynn County</td>\n",
       "      <td>Standing</td>\n",
       "      <td>AdysonáMcNeely</td>\n",
       "      <td>F</td>\n",
       "      <td>11</td>\n",
       "      <td>Minor injury to left thigh</td>\n",
       "      <td>N</td>\n",
       "      <td>14h00  -15h00</td>\n",
       "      <td>NaN</td>\n",
       "      <td>K.McMurray, TrackingSharks.com</td>\n",
       "      <td>2018.06.18-McNeely.pdf</td>\n",
       "      <td>http://sharkattackfile.net/spreadsheets/pdf_di...</td>\n",
       "      <td>http://sharkattackfile.net/spreadsheets/pdf_di...</td>\n",
       "      <td>2018.06.18</td>\n",
       "      <td>2018.06.18</td>\n",
       "      <td>6302.0</td>\n",
       "    </tr>\n",
       "    <tr>\n",
       "      <th>2</th>\n",
       "      <td>2018.06.09</td>\n",
       "      <td>09-Jun-2018</td>\n",
       "      <td>2018.0</td>\n",
       "      <td>Invalid</td>\n",
       "      <td>USA</td>\n",
       "      <td>Hawaii</td>\n",
       "      <td>Habush, Oahu</td>\n",
       "      <td>Surfing</td>\n",
       "      <td>John Denges</td>\n",
       "      <td>M</td>\n",
       "      <td>48</td>\n",
       "      <td>Injury to left lower leg from surfboard skeg</td>\n",
       "      <td>N</td>\n",
       "      <td>07h45</td>\n",
       "      <td>NaN</td>\n",
       "      <td>K.McMurray, TrackingSharks.com</td>\n",
       "      <td>2018.06.09-Denges.pdf</td>\n",
       "      <td>http://sharkattackfile.net/spreadsheets/pdf_di...</td>\n",
       "      <td>http://sharkattackfile.net/spreadsheets/pdf_di...</td>\n",
       "      <td>2018.06.09</td>\n",
       "      <td>2018.06.09</td>\n",
       "      <td>6301.0</td>\n",
       "    </tr>\n",
       "    <tr>\n",
       "      <th>3</th>\n",
       "      <td>2018.06.08</td>\n",
       "      <td>08-Jun-2018</td>\n",
       "      <td>2018.0</td>\n",
       "      <td>Unprovoked</td>\n",
       "      <td>AUSTRALIA</td>\n",
       "      <td>New South Wales</td>\n",
       "      <td>Arrawarra Headland</td>\n",
       "      <td>Surfing</td>\n",
       "      <td>male</td>\n",
       "      <td>M</td>\n",
       "      <td>NaN</td>\n",
       "      <td>Minor injury to lower leg</td>\n",
       "      <td>N</td>\n",
       "      <td>NaN</td>\n",
       "      <td>2 m shark</td>\n",
       "      <td>B. Myatt, GSAF</td>\n",
       "      <td>2018.06.08-Arrawarra.pdf</td>\n",
       "      <td>http://sharkattackfile.net/spreadsheets/pdf_di...</td>\n",
       "      <td>http://sharkattackfile.net/spreadsheets/pdf_di...</td>\n",
       "      <td>2018.06.08</td>\n",
       "      <td>2018.06.08</td>\n",
       "      <td>6300.0</td>\n",
       "    </tr>\n",
       "    <tr>\n",
       "      <th>4</th>\n",
       "      <td>2018.06.04</td>\n",
       "      <td>04-Jun-2018</td>\n",
       "      <td>2018.0</td>\n",
       "      <td>Provoked</td>\n",
       "      <td>MEXICO</td>\n",
       "      <td>Colima</td>\n",
       "      <td>La Ticla</td>\n",
       "      <td>Free diving</td>\n",
       "      <td>Gustavo Ramos</td>\n",
       "      <td>M</td>\n",
       "      <td>NaN</td>\n",
       "      <td>Lacerations to leg &amp; hand shark PROVOKED INCIDENT</td>\n",
       "      <td>N</td>\n",
       "      <td>NaN</td>\n",
       "      <td>Tiger shark, 3m</td>\n",
       "      <td>A .Kipper</td>\n",
       "      <td>2018.06.04-Ramos.pdf</td>\n",
       "      <td>http://sharkattackfile.net/spreadsheets/pdf_di...</td>\n",
       "      <td>http://sharkattackfile.net/spreadsheets/pdf_di...</td>\n",
       "      <td>2018.06.04</td>\n",
       "      <td>2018.06.04</td>\n",
       "      <td>6299.0</td>\n",
       "    </tr>\n",
       "  </tbody>\n",
       "</table>\n",
       "</div>"
      ],
      "text/plain": [
       "  Case Number         Date    Year        Type    Country             Area  \\\n",
       "0  2018.06.25  25-Jun-2018  2018.0        Boat        USA       California   \n",
       "1  2018.06.18  18-Jun-2018  2018.0  Unprovoked        USA          Georgia   \n",
       "2  2018.06.09  09-Jun-2018  2018.0     Invalid        USA           Hawaii   \n",
       "3  2018.06.08  08-Jun-2018  2018.0  Unprovoked  AUSTRALIA  New South Wales   \n",
       "4  2018.06.04  04-Jun-2018  2018.0    Provoked     MEXICO           Colima   \n",
       "\n",
       "                         Location     Activity             Name Sex   Age  \\\n",
       "0     Oceanside, San Diego County     Paddling      Julie Wolfe    F   57   \n",
       "1  St. Simon Island, Glynn County     Standing  AdysonáMcNeely     F   11   \n",
       "2                    Habush, Oahu      Surfing      John Denges    M   48   \n",
       "3              Arrawarra Headland      Surfing             male    M  NaN   \n",
       "4                        La Ticla  Free diving   Gustavo Ramos     M  NaN   \n",
       "\n",
       "                                              Injury Fatal (Y/N)  \\\n",
       "0  No injury to occupant, outrigger canoe and pad...           N   \n",
       "1                         Minor injury to left thigh           N   \n",
       "2       Injury to left lower leg from surfboard skeg           N   \n",
       "3                          Minor injury to lower leg           N   \n",
       "4  Lacerations to leg & hand shark PROVOKED INCIDENT           N   \n",
       "\n",
       "            Time         Species           Investigator or Source  \\\n",
       "0          18h00      White shark                R. Collier, GSAF   \n",
       "1  14h00  -15h00              NaN  K.McMurray, TrackingSharks.com   \n",
       "2          07h45              NaN  K.McMurray, TrackingSharks.com   \n",
       "3            NaN        2 m shark                  B. Myatt, GSAF   \n",
       "4            NaN  Tiger shark, 3m                       A .Kipper   \n",
       "\n",
       "                        pdf  \\\n",
       "0      2018.06.25-Wolfe.pdf   \n",
       "1    2018.06.18-McNeely.pdf   \n",
       "2     2018.06.09-Denges.pdf   \n",
       "3  2018.06.08-Arrawarra.pdf   \n",
       "4      2018.06.04-Ramos.pdf   \n",
       "\n",
       "                                        href formula  \\\n",
       "0  http://sharkattackfile.net/spreadsheets/pdf_di...   \n",
       "1  http://sharkattackfile.net/spreadsheets/pdf_di...   \n",
       "2  http://sharkattackfile.net/spreadsheets/pdf_di...   \n",
       "3  http://sharkattackfile.net/spreadsheets/pdf_di...   \n",
       "4  http://sharkattackfile.net/spreadsheets/pdf_di...   \n",
       "\n",
       "                                                href Case Number.1  \\\n",
       "0  http://sharkattackfile.net/spreadsheets/pdf_di...    2018.06.25   \n",
       "1  http://sharkattackfile.net/spreadsheets/pdf_di...    2018.06.18   \n",
       "2  http://sharkattackfile.net/spreadsheets/pdf_di...    2018.06.09   \n",
       "3  http://sharkattackfile.net/spreadsheets/pdf_di...    2018.06.08   \n",
       "4  http://sharkattackfile.net/spreadsheets/pdf_di...    2018.06.04   \n",
       "\n",
       "  Case Number.2  original order  \n",
       "0    2018.06.25          6303.0  \n",
       "1    2018.06.18          6302.0  \n",
       "2    2018.06.09          6301.0  \n",
       "3    2018.06.08          6300.0  \n",
       "4    2018.06.04          6299.0  "
      ]
     },
     "execution_count": 28,
     "metadata": {},
     "output_type": "execute_result"
    }
   ],
   "source": [
    "sharks_copy.head(5)"
   ]
  },
  {
   "cell_type": "markdown",
   "metadata": {},
   "source": [
    "> Getting the index of the data from 1900 on"
   ]
  },
  {
   "cell_type": "code",
   "execution_count": 29,
   "metadata": {},
   "outputs": [],
   "source": [
    "from_1900 = sharks_copy.loc[sharks_copy['Year'] < 1900, :].index"
   ]
  },
  {
   "cell_type": "markdown",
   "metadata": {},
   "source": [
    "> We then droped the line out the range of interest"
   ]
  },
  {
   "cell_type": "code",
   "execution_count": 30,
   "metadata": {},
   "outputs": [],
   "source": [
    "sharks_copy = sharks_copy.drop(from_1900)"
   ]
  },
  {
   "cell_type": "code",
   "execution_count": null,
   "metadata": {},
   "outputs": [],
   "source": []
  },
  {
   "cell_type": "markdown",
   "metadata": {},
   "source": [
    "### Cleaning the 'sex' column"
   ]
  },
  {
   "cell_type": "markdown",
   "metadata": {},
   "source": [
    "> First, we checked the values in the 'sex' column. For now, we are ignoring the space after the title. We will approach it later on."
   ]
  },
  {
   "cell_type": "code",
   "execution_count": 31,
   "metadata": {},
   "outputs": [
    {
     "data": {
      "text/plain": [
       "array(['F', 'M', nan, 'M ', 'lli', 'N', '.'], dtype=object)"
      ]
     },
     "execution_count": 31,
     "metadata": {},
     "output_type": "execute_result"
    }
   ],
   "source": [
    "sharks_copy['Sex '].unique()"
   ]
  },
  {
   "cell_type": "markdown",
   "metadata": {},
   "source": [
    "> A small number of data is messed up, so we can manage to review it and make decisions regaring it's value"
   ]
  },
  {
   "cell_type": "code",
   "execution_count": 32,
   "metadata": {},
   "outputs": [
    {
     "data": {
      "text/html": [
       "<div>\n",
       "<style scoped>\n",
       "    .dataframe tbody tr th:only-of-type {\n",
       "        vertical-align: middle;\n",
       "    }\n",
       "\n",
       "    .dataframe tbody tr th {\n",
       "        vertical-align: top;\n",
       "    }\n",
       "\n",
       "    .dataframe thead th {\n",
       "        text-align: right;\n",
       "    }\n",
       "</style>\n",
       "<table border=\"1\" class=\"dataframe\">\n",
       "  <thead>\n",
       "    <tr style=\"text-align: right;\">\n",
       "      <th></th>\n",
       "      <th>Case Number</th>\n",
       "      <th>Date</th>\n",
       "      <th>Year</th>\n",
       "      <th>Type</th>\n",
       "      <th>Country</th>\n",
       "      <th>Area</th>\n",
       "      <th>Location</th>\n",
       "      <th>Activity</th>\n",
       "      <th>Name</th>\n",
       "      <th>Sex</th>\n",
       "      <th>Age</th>\n",
       "      <th>Injury</th>\n",
       "      <th>Fatal (Y/N)</th>\n",
       "      <th>Time</th>\n",
       "      <th>Species</th>\n",
       "      <th>Investigator or Source</th>\n",
       "      <th>pdf</th>\n",
       "      <th>href formula</th>\n",
       "      <th>href</th>\n",
       "      <th>Case Number.1</th>\n",
       "      <th>Case Number.2</th>\n",
       "      <th>original order</th>\n",
       "    </tr>\n",
       "  </thead>\n",
       "  <tbody>\n",
       "    <tr>\n",
       "      <th>1624</th>\n",
       "      <td>2004.11.11.b</td>\n",
       "      <td>11-Nov-2004</td>\n",
       "      <td>2004.0</td>\n",
       "      <td>Unprovoked</td>\n",
       "      <td>USA</td>\n",
       "      <td>California</td>\n",
       "      <td>Bunkers, Humboldt Bay, Eureka, Humboldt County</td>\n",
       "      <td>Surfing</td>\n",
       "      <td>Brian Kang</td>\n",
       "      <td>lli</td>\n",
       "      <td>38</td>\n",
       "      <td>Lacerations to hand, knee &amp; thigh</td>\n",
       "      <td>N</td>\n",
       "      <td>13h30</td>\n",
       "      <td>5.5 m [18'] white shark</td>\n",
       "      <td>R. Collier, GSAF</td>\n",
       "      <td>2004.11.11.b-Kang.pdf</td>\n",
       "      <td>http://sharkattackfile.net/spreadsheets/pdf_di...</td>\n",
       "      <td>http://sharkattackfile.net/spreadsheets/pdf_di...</td>\n",
       "      <td>2004.11.11.b</td>\n",
       "      <td>2004.11.11.b</td>\n",
       "      <td>4679.0</td>\n",
       "    </tr>\n",
       "  </tbody>\n",
       "</table>\n",
       "</div>"
      ],
      "text/plain": [
       "       Case Number         Date    Year        Type Country        Area  \\\n",
       "1624  2004.11.11.b  11-Nov-2004  2004.0  Unprovoked     USA  California   \n",
       "\n",
       "                                            Location Activity        Name  \\\n",
       "1624  Bunkers, Humboldt Bay, Eureka, Humboldt County  Surfing  Brian Kang   \n",
       "\n",
       "     Sex  Age                              Injury Fatal (Y/N)   Time  \\\n",
       "1624  lli  38  Lacerations to hand, knee & thigh            N  13h30   \n",
       "\n",
       "                     Species             Investigator or Source  \\\n",
       "1624  5.5 m [18'] white shark  R. Collier, GSAF                   \n",
       "\n",
       "                        pdf  \\\n",
       "1624  2004.11.11.b-Kang.pdf   \n",
       "\n",
       "                                           href formula  \\\n",
       "1624  http://sharkattackfile.net/spreadsheets/pdf_di...   \n",
       "\n",
       "                                                   href Case Number.1  \\\n",
       "1624  http://sharkattackfile.net/spreadsheets/pdf_di...  2004.11.11.b   \n",
       "\n",
       "     Case Number.2  original order  \n",
       "1624  2004.11.11.b          4679.0  "
      ]
     },
     "execution_count": 32,
     "metadata": {},
     "output_type": "execute_result"
    }
   ],
   "source": [
    "# from the victim's name, we can infer that the individual probably is male\n",
    "sharks_copy.loc[sharks_copy['Sex ']== 'lli',:]"
   ]
  },
  {
   "cell_type": "code",
   "execution_count": 33,
   "metadata": {},
   "outputs": [
    {
     "data": {
      "text/html": [
       "<div>\n",
       "<style scoped>\n",
       "    .dataframe tbody tr th:only-of-type {\n",
       "        vertical-align: middle;\n",
       "    }\n",
       "\n",
       "    .dataframe tbody tr th {\n",
       "        vertical-align: top;\n",
       "    }\n",
       "\n",
       "    .dataframe thead th {\n",
       "        text-align: right;\n",
       "    }\n",
       "</style>\n",
       "<table border=\"1\" class=\"dataframe\">\n",
       "  <thead>\n",
       "    <tr style=\"text-align: right;\">\n",
       "      <th></th>\n",
       "      <th>Case Number</th>\n",
       "      <th>Date</th>\n",
       "      <th>Year</th>\n",
       "      <th>Type</th>\n",
       "      <th>Country</th>\n",
       "      <th>Area</th>\n",
       "      <th>Location</th>\n",
       "      <th>Activity</th>\n",
       "      <th>Name</th>\n",
       "      <th>Sex</th>\n",
       "      <th>Age</th>\n",
       "      <th>Injury</th>\n",
       "      <th>Fatal (Y/N)</th>\n",
       "      <th>Time</th>\n",
       "      <th>Species</th>\n",
       "      <th>Investigator or Source</th>\n",
       "      <th>pdf</th>\n",
       "      <th>href formula</th>\n",
       "      <th>href</th>\n",
       "      <th>Case Number.1</th>\n",
       "      <th>Case Number.2</th>\n",
       "      <th>original order</th>\n",
       "    </tr>\n",
       "  </thead>\n",
       "  <tbody>\n",
       "    <tr>\n",
       "      <th>5437</th>\n",
       "      <td>1908.06.02.R</td>\n",
       "      <td>Reported 02-Jun-1908</td>\n",
       "      <td>1908.0</td>\n",
       "      <td>Sea Disaster</td>\n",
       "      <td>PAPUA NEW GUINEA</td>\n",
       "      <td>New Britain</td>\n",
       "      <td>Matupi</td>\n",
       "      <td>.</td>\n",
       "      <td>NaN</td>\n",
       "      <td>.</td>\n",
       "      <td>NaN</td>\n",
       "      <td>Remains of 3 humans recovered from shark, but ...</td>\n",
       "      <td>Y</td>\n",
       "      <td>NaN</td>\n",
       "      <td>Allegedly a 33-foot shark</td>\n",
       "      <td>Taranaki Herald, 6/2/1908</td>\n",
       "      <td>1908.06.02.R-Matupi.pdf</td>\n",
       "      <td>http://sharkattackfile.net/spreadsheets/pdf_di...</td>\n",
       "      <td>http://sharkattackfile.net/spreadsheets/pdf_di...</td>\n",
       "      <td>1908.06.02.R</td>\n",
       "      <td>1908.06.02.R</td>\n",
       "      <td>866.0</td>\n",
       "    </tr>\n",
       "  </tbody>\n",
       "</table>\n",
       "</div>"
      ],
      "text/plain": [
       "       Case Number                  Date    Year          Type  \\\n",
       "5437  1908.06.02.R  Reported 02-Jun-1908  1908.0  Sea Disaster   \n",
       "\n",
       "               Country         Area Location Activity Name Sex   Age  \\\n",
       "5437  PAPUA NEW GUINEA  New Britain   Matupi        .  NaN    .  NaN   \n",
       "\n",
       "                                                 Injury Fatal (Y/N) Time  \\\n",
       "5437  Remains of 3 humans recovered from shark, but ...           Y  NaN   \n",
       "\n",
       "                       Species      Investigator or Source  \\\n",
       "5437  Allegedly a 33-foot shark  Taranaki Herald, 6/2/1908   \n",
       "\n",
       "                          pdf  \\\n",
       "5437  1908.06.02.R-Matupi.pdf   \n",
       "\n",
       "                                           href formula  \\\n",
       "5437  http://sharkattackfile.net/spreadsheets/pdf_di...   \n",
       "\n",
       "                                                   href Case Number.1  \\\n",
       "5437  http://sharkattackfile.net/spreadsheets/pdf_di...  1908.06.02.R   \n",
       "\n",
       "     Case Number.2  original order  \n",
       "5437  1908.06.02.R           866.0  "
      ]
     },
     "execution_count": 33,
     "metadata": {},
     "output_type": "execute_result"
    }
   ],
   "source": [
    "# Not enough info to infer the sex, fill it with 'UNKNOWN'\n",
    "sharks_copy.loc[sharks_copy['Sex ']== '.',:]"
   ]
  },
  {
   "cell_type": "code",
   "execution_count": 34,
   "metadata": {},
   "outputs": [
    {
     "data": {
      "text/html": [
       "<div>\n",
       "<style scoped>\n",
       "    .dataframe tbody tr th:only-of-type {\n",
       "        vertical-align: middle;\n",
       "    }\n",
       "\n",
       "    .dataframe tbody tr th {\n",
       "        vertical-align: top;\n",
       "    }\n",
       "\n",
       "    .dataframe thead th {\n",
       "        text-align: right;\n",
       "    }\n",
       "</style>\n",
       "<table border=\"1\" class=\"dataframe\">\n",
       "  <thead>\n",
       "    <tr style=\"text-align: right;\">\n",
       "      <th></th>\n",
       "      <th>Case Number</th>\n",
       "      <th>Date</th>\n",
       "      <th>Year</th>\n",
       "      <th>Type</th>\n",
       "      <th>Country</th>\n",
       "      <th>Area</th>\n",
       "      <th>Location</th>\n",
       "      <th>Activity</th>\n",
       "      <th>Name</th>\n",
       "      <th>Sex</th>\n",
       "      <th>Age</th>\n",
       "      <th>Injury</th>\n",
       "      <th>Fatal (Y/N)</th>\n",
       "      <th>Time</th>\n",
       "      <th>Species</th>\n",
       "      <th>Investigator or Source</th>\n",
       "      <th>pdf</th>\n",
       "      <th>href formula</th>\n",
       "      <th>href</th>\n",
       "      <th>Case Number.1</th>\n",
       "      <th>Case Number.2</th>\n",
       "      <th>original order</th>\n",
       "    </tr>\n",
       "  </thead>\n",
       "  <tbody>\n",
       "    <tr>\n",
       "      <th>4938</th>\n",
       "      <td>1934.07.11</td>\n",
       "      <td>11-Jul-1934</td>\n",
       "      <td>1934.0</td>\n",
       "      <td>Boat</td>\n",
       "      <td>AUSTRALIA</td>\n",
       "      <td>New South Wales</td>\n",
       "      <td>Cronulla</td>\n",
       "      <td>Fishing</td>\n",
       "      <td>18' boat, occupants William &amp; Leslie Newton</td>\n",
       "      <td>N</td>\n",
       "      <td>NaN</td>\n",
       "      <td>No injury to occupants Sharks continually foll...</td>\n",
       "      <td>N</td>\n",
       "      <td>NaN</td>\n",
       "      <td>Blue pointer, 11'</td>\n",
       "      <td>G.P. Whitley, ref: Daily Telegraph, 7/11/1934 ...</td>\n",
       "      <td>1934.07.11-Newton-boat-Australia.pdf</td>\n",
       "      <td>http://sharkattackfile.net/spreadsheets/pdf_di...</td>\n",
       "      <td>http://sharkattackfile.net/spreadsheets/pdf_di...</td>\n",
       "      <td>1934.07.11</td>\n",
       "      <td>1934.07.11</td>\n",
       "      <td>1365.0</td>\n",
       "    </tr>\n",
       "  </tbody>\n",
       "</table>\n",
       "</div>"
      ],
      "text/plain": [
       "     Case Number         Date    Year  Type    Country             Area  \\\n",
       "4938  1934.07.11  11-Jul-1934  1934.0  Boat  AUSTRALIA  New South Wales   \n",
       "\n",
       "      Location Activity                                         Name Sex   \\\n",
       "4938  Cronulla  Fishing  18' boat, occupants William & Leslie Newton    N   \n",
       "\n",
       "      Age                                             Injury Fatal (Y/N) Time  \\\n",
       "4938  NaN  No injury to occupants Sharks continually foll...           N  NaN   \n",
       "\n",
       "                Species                              Investigator or Source  \\\n",
       "4938  Blue pointer, 11'   G.P. Whitley, ref: Daily Telegraph, 7/11/1934 ...   \n",
       "\n",
       "                                       pdf  \\\n",
       "4938  1934.07.11-Newton-boat-Australia.pdf   \n",
       "\n",
       "                                           href formula  \\\n",
       "4938  http://sharkattackfile.net/spreadsheets/pdf_di...   \n",
       "\n",
       "                                                   href Case Number.1  \\\n",
       "4938  http://sharkattackfile.net/spreadsheets/pdf_di...    1934.07.11   \n",
       "\n",
       "     Case Number.2  original order  \n",
       "4938    1934.07.11          1365.0  "
      ]
     },
     "execution_count": 34,
     "metadata": {},
     "output_type": "execute_result"
    }
   ],
   "source": [
    "# We could infer from the data they are mostly type error from 'M'\n",
    "sharks_copy.loc[sharks_copy['Sex ']== 'N',:]"
   ]
  },
  {
   "cell_type": "markdown",
   "metadata": {},
   "source": [
    "> We decided to change to 'M' the values we thought were refering to a male individual"
   ]
  },
  {
   "cell_type": "code",
   "execution_count": 36,
   "metadata": {},
   "outputs": [],
   "source": [
    "sharks_copy.loc[:,'Sex '].replace(to_replace = ['lli','N', 'M '], value = 'M', inplace = True)"
   ]
  },
  {
   "cell_type": "markdown",
   "metadata": {},
   "source": [
    "> And '.' value AND NaN values to 'UNKNOWN'"
   ]
  },
  {
   "cell_type": "code",
   "execution_count": 37,
   "metadata": {},
   "outputs": [],
   "source": [
    "sharks_copy.loc[:,'Sex '].replace(to_replace = ['.'], value = 'UNKNOWN', inplace = True)"
   ]
  },
  {
   "cell_type": "code",
   "execution_count": 38,
   "metadata": {},
   "outputs": [],
   "source": [
    "sharks_copy['Sex '].fillna('UNKNOWN', inplace=True )"
   ]
  },
  {
   "cell_type": "code",
   "execution_count": 43,
   "metadata": {},
   "outputs": [
    {
     "data": {
      "text/plain": [
       "0    F\n",
       "1    F\n",
       "2    M\n",
       "3    M\n",
       "4    M\n",
       "5    M\n",
       "6    M\n",
       "7    M\n",
       "8    M\n",
       "9    M\n",
       "Name: Sex , dtype: object"
      ]
     },
     "execution_count": 43,
     "metadata": {},
     "output_type": "execute_result"
    }
   ],
   "source": [
    "sharks_copy['Sex '].head(10)"
   ]
  },
  {
   "cell_type": "code",
   "execution_count": 45,
   "metadata": {
    "collapsed": true
   },
   "outputs": [
    {
     "name": "stdout",
     "output_type": "stream",
     "text": [
      "<class 'pandas.core.frame.DataFrame'>\n",
      "Int64Index: 5564 entries, 0 to 6079\n",
      "Data columns (total 22 columns):\n",
      " #   Column                  Non-Null Count  Dtype  \n",
      "---  ------                  --------------  -----  \n",
      " 0   Case Number             5563 non-null   object \n",
      " 1   Date                    5564 non-null   object \n",
      " 2   Year                    5562 non-null   float64\n",
      " 3   Type                    5561 non-null   object \n",
      " 4   Country                 5540 non-null   object \n",
      " 5   Area                    5251 non-null   object \n",
      " 6   Location                5186 non-null   object \n",
      " 7   Activity                5129 non-null   object \n",
      " 8   Name                    5397 non-null   object \n",
      " 9   Sex                     5564 non-null   object \n",
      " 10  Age                     3380 non-null   object \n",
      " 11  Injury                  5545 non-null   object \n",
      " 12  Fatal (Y/N)             5564 non-null   object \n",
      " 13  Time                    2850 non-null   object \n",
      " 14  Species                 3281 non-null   object \n",
      " 15  Investigator or Source  5549 non-null   object \n",
      " 16  pdf                     5564 non-null   object \n",
      " 17  href formula            5563 non-null   object \n",
      " 18  href                    5564 non-null   object \n",
      " 19  Case Number.1           5564 non-null   object \n",
      " 20  Case Number.2           5564 non-null   object \n",
      " 21  original order          5564 non-null   float64\n",
      "dtypes: float64(2), object(20)\n",
      "memory usage: 999.8+ KB\n"
     ]
    }
   ],
   "source": [
    "sharks_copy.info()"
   ]
  },
  {
   "cell_type": "code",
   "execution_count": 57,
   "metadata": {},
   "outputs": [],
   "source": [
    "sharks_copy.fillna('UNKNOWN', inplace=True)"
   ]
  },
  {
   "cell_type": "code",
   "execution_count": null,
   "metadata": {},
   "outputs": [],
   "source": []
  },
  {
   "cell_type": "markdown",
   "metadata": {},
   "source": [
    "### Cleasing the ' Activity' column: filtering incidents with surfers"
   ]
  },
  {
   "cell_type": "code",
   "execution_count": 59,
   "metadata": {},
   "outputs": [],
   "source": [
    "surf_mask = sharks_copy.loc[:,'Activity'].apply(lambda x: (('surf' in x)|('Surf' in x)))"
   ]
  },
  {
   "cell_type": "code",
   "execution_count": 60,
   "metadata": {},
   "outputs": [],
   "source": [
    "surf = sharks_copy.loc[surf_mask,:]"
   ]
  },
  {
   "cell_type": "markdown",
   "metadata": {},
   "source": [
    "> This new dataframe summarizes the incidents with surfers from 1900, classified by gender and fatalities"
   ]
  },
  {
   "cell_type": "code",
   "execution_count": 61,
   "metadata": {
    "scrolled": false
   },
   "outputs": [
    {
     "data": {
      "text/plain": [
       "Sex      Fatal (Y/N)\n",
       "F        N                66\n",
       "         UNKNOWN           7\n",
       "         Y                 4\n",
       "M        N              1041\n",
       "         UNKNOWN          42\n",
       "         Y                67\n",
       "UNKNOWN  N                25\n",
       "         UNKNOWN           4\n",
       "Name: Activity, dtype: int64"
      ]
     },
     "execution_count": 61,
     "metadata": {},
     "output_type": "execute_result"
    }
   ],
   "source": [
    "surf.groupby(by=['Sex ', 'Fatal (Y/N)'])['Activity'].count()"
   ]
  },
  {
   "cell_type": "markdown",
   "metadata": {},
   "source": [
    "> We also noticed that there were a large number of shark incidents with fishers. Since our function was easy to customize for any string in the Activity column, we decided to take a look at this data as well"
   ]
  },
  {
   "cell_type": "code",
   "execution_count": 62,
   "metadata": {},
   "outputs": [],
   "source": [
    "fisher_mask = sharks_copy.loc[:,'Activity'].apply(lambda x: (('fish' in x)|('Fish' in x)))"
   ]
  },
  {
   "cell_type": "code",
   "execution_count": 63,
   "metadata": {},
   "outputs": [],
   "source": [
    "fishing = sharks_copy.loc[fisher_mask, :]"
   ]
  },
  {
   "cell_type": "code",
   "execution_count": 64,
   "metadata": {
    "scrolled": true
   },
   "outputs": [
    {
     "data": {
      "text/plain": [
       "Sex      Fatal (Y/N)\n",
       "F        N               23\n",
       "         UNKNOWN          2\n",
       "         Y                2\n",
       "M        N              757\n",
       "         UNKNOWN         65\n",
       "         Y              135\n",
       "UNKNOWN  N              140\n",
       "         UNKNOWN          8\n",
       "         Y                9\n",
       "Name: Activity, dtype: int64"
      ]
     },
     "execution_count": 64,
     "metadata": {},
     "output_type": "execute_result"
    }
   ],
   "source": [
    "fishing.groupby(by=['Sex ', 'Fatal (Y/N)'])['Activity'].count()"
   ]
  },
  {
   "cell_type": "code",
   "execution_count": null,
   "metadata": {},
   "outputs": [],
   "source": []
  },
  {
   "cell_type": "markdown",
   "metadata": {},
   "source": [
    "# Exporting the cleaned data"
   ]
  },
  {
   "cell_type": "code",
   "execution_count": null,
   "metadata": {},
   "outputs": [],
   "source": []
  },
  {
   "cell_type": "code",
   "execution_count": 66,
   "metadata": {},
   "outputs": [],
   "source": [
    "sharks_copy.to_csv('../mini-project-2/attacks_andre-eve.csv')"
   ]
  },
  {
   "cell_type": "code",
   "execution_count": null,
   "metadata": {},
   "outputs": [],
   "source": []
  },
  {
   "cell_type": "markdown",
   "metadata": {},
   "source": [
    "# Conclusion and Next Steps"
   ]
  },
  {
   "cell_type": "code",
   "execution_count": null,
   "metadata": {},
   "outputs": [],
   "source": []
  },
  {
   "cell_type": "markdown",
   "metadata": {},
   "source": [
    "> Our early process was very explorative and we were communicative from beginning to end. We started by establishing a strategy regarding what we should do, the columns and issues that were worth approaching, and how we would approach them. One of the things we noticed was that ***some of the cases registered as shark attacks had no sharks attacking no one at all!** At first we thought that it was a good subject to work on in our project, and we still do, but since it would take A LOT of filtering and we had just a few hours, we decided to design our cleaning around a problem that we could handle. In the near future we would like to continue working on the project, approaching the columns in order of difficulty.\n",
    "\n",
    "Easy to clean:\n",
    "* Case number\n",
    "* Original order\n",
    "* href, href formula, pdf\n",
    "* Type\n",
    "* Case number\n",
    "* Injury\n",
    "\n",
    "Slighly harder:\n",
    "* Name\n",
    "* Country\n",
    "* Location\n",
    "* Area\n",
    "\n",
    "The tough ones:\n",
    "* Species\n",
    "* Investigator or source\n",
    "* Time\n",
    "* Date"
   ]
  },
  {
   "cell_type": "code",
   "execution_count": null,
   "metadata": {},
   "outputs": [],
   "source": []
  },
  {
   "cell_type": "markdown",
   "metadata": {},
   "source": [
    "# BONUS: Some of our early discovery and learning process"
   ]
  },
  {
   "cell_type": "markdown",
   "metadata": {},
   "source": [
    "## Getting acquainted with the dataframe and finding issues with columns"
   ]
  },
  {
   "cell_type": "markdown",
   "metadata": {},
   "source": [
    "### Spaces after column names"
   ]
  },
  {
   "cell_type": "code",
   "execution_count": null,
   "metadata": {
    "scrolled": true
   },
   "outputs": [],
   "source": [
    "sharks.columns"
   ]
  },
  {
   "cell_type": "markdown",
   "metadata": {},
   "source": [
    "> 'Sex ', 'Species '"
   ]
  },
  {
   "cell_type": "markdown",
   "metadata": {},
   "source": [
    "### Upper case mixed with lower case titles"
   ]
  },
  {
   "cell_type": "markdown",
   "metadata": {},
   "source": [
    "> 'pdf', 'href formula', 'href', 'original order'"
   ]
  },
  {
   "cell_type": "markdown",
   "metadata": {},
   "source": [
    "### Empty columns"
   ]
  },
  {
   "cell_type": "code",
   "execution_count": null,
   "metadata": {},
   "outputs": [],
   "source": [
    "sharks['Unnamed: 22'].isna().mean()"
   ]
  },
  {
   "cell_type": "code",
   "execution_count": null,
   "metadata": {
    "scrolled": true
   },
   "outputs": [],
   "source": [
    "sharks['Unnamed: 23'].isna().mean()"
   ]
  },
  {
   "cell_type": "code",
   "execution_count": null,
   "metadata": {},
   "outputs": [],
   "source": []
  },
  {
   "cell_type": "markdown",
   "metadata": {},
   "source": [
    "## Possibly duplicated columns"
   ]
  },
  {
   "cell_type": "markdown",
   "metadata": {},
   "source": [
    "### Case Number, Case Number, Case Number"
   ]
  },
  {
   "cell_type": "code",
   "execution_count": null,
   "metadata": {},
   "outputs": [],
   "source": [
    "sharks.columns"
   ]
  },
  {
   "cell_type": "code",
   "execution_count": null,
   "metadata": {},
   "outputs": [],
   "source": [
    "sharks.groupby(by=['Case Number', 'Case Number.1'], axis=1)"
   ]
  },
  {
   "cell_type": "code",
   "execution_count": null,
   "metadata": {},
   "outputs": [],
   "source": [
    "sharks['Case Number'].is_unique"
   ]
  },
  {
   "cell_type": "code",
   "execution_count": null,
   "metadata": {},
   "outputs": [],
   "source": [
    "sharks['Case Number'].value_counts()"
   ]
  },
  {
   "cell_type": "code",
   "execution_count": null,
   "metadata": {},
   "outputs": [],
   "source": [
    "sharks['Case Number.1'].head(20)"
   ]
  },
  {
   "cell_type": "code",
   "execution_count": null,
   "metadata": {},
   "outputs": [],
   "source": [
    "sharks[['Case Number', 'Case Number.1', 'Case Number.2']].head(5)"
   ]
  },
  {
   "cell_type": "markdown",
   "metadata": {},
   "source": [
    "### Case Number"
   ]
  },
  {
   "cell_type": "code",
   "execution_count": null,
   "metadata": {},
   "outputs": [],
   "source": [
    "sharks['Case Number'].head(5)"
   ]
  },
  {
   "cell_type": "markdown",
   "metadata": {},
   "source": [
    "### Case Number.1"
   ]
  },
  {
   "cell_type": "code",
   "execution_count": null,
   "metadata": {},
   "outputs": [],
   "source": [
    "sharks['Case Number.1'].head(5)"
   ]
  },
  {
   "cell_type": "markdown",
   "metadata": {},
   "source": [
    "### Case Number.2"
   ]
  },
  {
   "cell_type": "code",
   "execution_count": null,
   "metadata": {},
   "outputs": [],
   "source": [
    "sharks['Case Number.2'].head(5)"
   ]
  },
  {
   "cell_type": "code",
   "execution_count": null,
   "metadata": {},
   "outputs": [],
   "source": []
  },
  {
   "cell_type": "markdown",
   "metadata": {},
   "source": [
    "## Date"
   ]
  },
  {
   "cell_type": "code",
   "execution_count": null,
   "metadata": {},
   "outputs": [],
   "source": []
  },
  {
   "cell_type": "code",
   "execution_count": null,
   "metadata": {},
   "outputs": [],
   "source": [
    "sharks['Date'].value_counts().head(25)"
   ]
  },
  {
   "cell_type": "code",
   "execution_count": null,
   "metadata": {},
   "outputs": [],
   "source": [
    "date = sharks['Date']\n",
    "pd.to_datetime(date, infer_datetime_format=True)"
   ]
  },
  {
   "cell_type": "code",
   "execution_count": null,
   "metadata": {},
   "outputs": [],
   "source": []
  },
  {
   "cell_type": "markdown",
   "metadata": {},
   "source": [
    "## Row issues"
   ]
  },
  {
   "cell_type": "markdown",
   "metadata": {},
   "source": [
    "Droped several duplicated and empty rows."
   ]
  },
  {
   "cell_type": "code",
   "execution_count": null,
   "metadata": {},
   "outputs": [],
   "source": []
  },
  {
   "cell_type": "markdown",
   "metadata": {},
   "source": [
    "## Year"
   ]
  },
  {
   "cell_type": "markdown",
   "metadata": {},
   "source": [
    "Should we really keep redundant information such as complete date and year?"
   ]
  },
  {
   "cell_type": "code",
   "execution_count": null,
   "metadata": {},
   "outputs": [],
   "source": []
  },
  {
   "cell_type": "code",
   "execution_count": null,
   "metadata": {},
   "outputs": [],
   "source": [
    "sharks[['Year','original order']].isna().sum()"
   ]
  },
  {
   "cell_type": "code",
   "execution_count": null,
   "metadata": {},
   "outputs": [],
   "source": [
    "sharks['Year'].value_counts().head(10)"
   ]
  },
  {
   "cell_type": "code",
   "execution_count": null,
   "metadata": {},
   "outputs": [],
   "source": []
  },
  {
   "cell_type": "markdown",
   "metadata": {},
   "source": [
    "## Type"
   ]
  },
  {
   "cell_type": "code",
   "execution_count": null,
   "metadata": {},
   "outputs": [],
   "source": []
  },
  {
   "cell_type": "code",
   "execution_count": null,
   "metadata": {},
   "outputs": [],
   "source": [
    "sharks['Type'].unique()"
   ]
  },
  {
   "cell_type": "code",
   "execution_count": null,
   "metadata": {},
   "outputs": [],
   "source": []
  },
  {
   "cell_type": "markdown",
   "metadata": {},
   "source": [
    "## Country"
   ]
  },
  {
   "cell_type": "code",
   "execution_count": null,
   "metadata": {},
   "outputs": [],
   "source": []
  },
  {
   "cell_type": "code",
   "execution_count": null,
   "metadata": {},
   "outputs": [],
   "source": [
    "sharks['Country'].unique()"
   ]
  },
  {
   "cell_type": "code",
   "execution_count": null,
   "metadata": {},
   "outputs": [],
   "source": []
  },
  {
   "cell_type": "markdown",
   "metadata": {},
   "source": [
    "## Area"
   ]
  },
  {
   "cell_type": "code",
   "execution_count": null,
   "metadata": {},
   "outputs": [],
   "source": []
  },
  {
   "cell_type": "code",
   "execution_count": null,
   "metadata": {},
   "outputs": [],
   "source": [
    "sharks['Area'].unique()"
   ]
  },
  {
   "cell_type": "code",
   "execution_count": null,
   "metadata": {},
   "outputs": [],
   "source": []
  },
  {
   "cell_type": "markdown",
   "metadata": {},
   "source": [
    "## Location"
   ]
  },
  {
   "cell_type": "code",
   "execution_count": null,
   "metadata": {},
   "outputs": [],
   "source": []
  },
  {
   "cell_type": "code",
   "execution_count": null,
   "metadata": {},
   "outputs": [],
   "source": [
    "list(sharks['Location'].unique())"
   ]
  },
  {
   "cell_type": "code",
   "execution_count": null,
   "metadata": {},
   "outputs": [],
   "source": []
  },
  {
   "cell_type": "markdown",
   "metadata": {},
   "source": [
    "## Activity"
   ]
  },
  {
   "cell_type": "code",
   "execution_count": null,
   "metadata": {},
   "outputs": [],
   "source": []
  },
  {
   "cell_type": "code",
   "execution_count": null,
   "metadata": {},
   "outputs": [],
   "source": [
    "list(sharks['Activity'].unique())"
   ]
  },
  {
   "cell_type": "code",
   "execution_count": null,
   "metadata": {},
   "outputs": [],
   "source": []
  },
  {
   "cell_type": "markdown",
   "metadata": {},
   "source": [
    "## Name"
   ]
  },
  {
   "cell_type": "code",
   "execution_count": null,
   "metadata": {},
   "outputs": [],
   "source": []
  },
  {
   "cell_type": "code",
   "execution_count": null,
   "metadata": {},
   "outputs": [],
   "source": [
    "\n",
    "name_female = (sharks['Name'] == 'female').sum()\n",
    "name_male = (sharks['Name'] == 'male').sum()\n",
    "wrong_names = name_female + name_male\n",
    "print(f'Wrong names: {wrong_names}')\n",
    "\n",
    "total_names = sharks['Name'].count()\n",
    "print(f'Total names: {total_names}')\n",
    "\n",
    "clean_names = total_names - wrong_names\n",
    "print(f'Clean names: {clean_names}')"
   ]
  },
  {
   "cell_type": "code",
   "execution_count": null,
   "metadata": {},
   "outputs": [],
   "source": []
  },
  {
   "cell_type": "markdown",
   "metadata": {},
   "source": [
    "## Sex"
   ]
  },
  {
   "cell_type": "code",
   "execution_count": null,
   "metadata": {},
   "outputs": [],
   "source": []
  },
  {
   "cell_type": "code",
   "execution_count": null,
   "metadata": {},
   "outputs": [],
   "source": [
    "sharks['Sex ']"
   ]
  },
  {
   "cell_type": "code",
   "execution_count": null,
   "metadata": {
    "scrolled": true
   },
   "outputs": [],
   "source": [
    "sharks['Sex '].unique()"
   ]
  },
  {
   "cell_type": "code",
   "execution_count": null,
   "metadata": {},
   "outputs": [],
   "source": [
    "mask = (sharks['Sex '] == '.')\n",
    "sharks.loc[mask]"
   ]
  },
  {
   "cell_type": "code",
   "execution_count": null,
   "metadata": {},
   "outputs": [],
   "source": []
  },
  {
   "cell_type": "markdown",
   "metadata": {},
   "source": [
    "## Age"
   ]
  },
  {
   "cell_type": "code",
   "execution_count": null,
   "metadata": {},
   "outputs": [],
   "source": []
  },
  {
   "cell_type": "code",
   "execution_count": null,
   "metadata": {},
   "outputs": [],
   "source": [
    "sharks['Age'].unique()"
   ]
  },
  {
   "cell_type": "code",
   "execution_count": null,
   "metadata": {},
   "outputs": [],
   "source": []
  },
  {
   "cell_type": "markdown",
   "metadata": {},
   "source": [
    "## Injury"
   ]
  },
  {
   "cell_type": "code",
   "execution_count": null,
   "metadata": {},
   "outputs": [],
   "source": []
  },
  {
   "cell_type": "code",
   "execution_count": null,
   "metadata": {},
   "outputs": [],
   "source": [
    "list(sharks['Injury'].unique())"
   ]
  },
  {
   "cell_type": "code",
   "execution_count": null,
   "metadata": {},
   "outputs": [],
   "source": []
  },
  {
   "cell_type": "markdown",
   "metadata": {},
   "source": [
    "## Fatal (Y/N)"
   ]
  },
  {
   "cell_type": "code",
   "execution_count": null,
   "metadata": {},
   "outputs": [],
   "source": []
  },
  {
   "cell_type": "code",
   "execution_count": null,
   "metadata": {},
   "outputs": [],
   "source": [
    "sharks['Fatal (Y/N)']"
   ]
  },
  {
   "cell_type": "code",
   "execution_count": null,
   "metadata": {},
   "outputs": [],
   "source": [
    "sharks['Fatal (Y/N)'].unique()"
   ]
  },
  {
   "cell_type": "code",
   "execution_count": null,
   "metadata": {},
   "outputs": [],
   "source": [
    "fatal_mask = sharks['Fatal (Y/N)'] == 'M'\n",
    "sharks.loc[fatal_mask]"
   ]
  },
  {
   "cell_type": "code",
   "execution_count": null,
   "metadata": {},
   "outputs": [],
   "source": [
    "sharks['Fatal (Y/N)'].isna().sum()"
   ]
  },
  {
   "cell_type": "code",
   "execution_count": null,
   "metadata": {},
   "outputs": [],
   "source": []
  },
  {
   "cell_type": "markdown",
   "metadata": {},
   "source": [
    "## Time"
   ]
  },
  {
   "cell_type": "code",
   "execution_count": null,
   "metadata": {},
   "outputs": [],
   "source": []
  },
  {
   "cell_type": "code",
   "execution_count": null,
   "metadata": {},
   "outputs": [],
   "source": [
    "sharks['Time'].unique()"
   ]
  },
  {
   "cell_type": "code",
   "execution_count": null,
   "metadata": {},
   "outputs": [],
   "source": []
  },
  {
   "cell_type": "markdown",
   "metadata": {},
   "source": [
    "## Species"
   ]
  },
  {
   "cell_type": "code",
   "execution_count": null,
   "metadata": {},
   "outputs": [],
   "source": []
  },
  {
   "cell_type": "code",
   "execution_count": null,
   "metadata": {},
   "outputs": [],
   "source": [
    "sharks.groupby(by=['Case Number', 'Case Number.1'], axis=1)"
   ]
  },
  {
   "cell_type": "code",
   "execution_count": null,
   "metadata": {},
   "outputs": [],
   "source": [
    "sharks.groupby(by=['Case Number', 'Case Number.1'], axis=1)"
   ]
  },
  {
   "cell_type": "code",
   "execution_count": null,
   "metadata": {},
   "outputs": [],
   "source": [
    "sharks.groupby(by=['Case Number', 'Case Number.1'], axis=1)"
   ]
  },
  {
   "cell_type": "code",
   "execution_count": null,
   "metadata": {},
   "outputs": [],
   "source": [
    "list(sharks['Species '].unique())"
   ]
  },
  {
   "cell_type": "code",
   "execution_count": null,
   "metadata": {},
   "outputs": [],
   "source": []
  },
  {
   "cell_type": "markdown",
   "metadata": {},
   "source": [
    "## Investigator or Source"
   ]
  },
  {
   "cell_type": "code",
   "execution_count": null,
   "metadata": {},
   "outputs": [],
   "source": []
  },
  {
   "cell_type": "code",
   "execution_count": null,
   "metadata": {},
   "outputs": [],
   "source": [
    "sharks['Investigator or Source'].head(5)"
   ]
  },
  {
   "cell_type": "code",
   "execution_count": null,
   "metadata": {},
   "outputs": [],
   "source": [
    "list(sharks['Investigator or Source'].unique())"
   ]
  },
  {
   "cell_type": "code",
   "execution_count": null,
   "metadata": {},
   "outputs": [],
   "source": []
  },
  {
   "cell_type": "markdown",
   "metadata": {},
   "source": [
    "## pdf, href formula, href"
   ]
  },
  {
   "cell_type": "code",
   "execution_count": null,
   "metadata": {},
   "outputs": [],
   "source": []
  },
  {
   "cell_type": "code",
   "execution_count": null,
   "metadata": {},
   "outputs": [],
   "source": [
    "sharks[['href formula', 'href', 'pdf']].head(10)"
   ]
  },
  {
   "cell_type": "code",
   "execution_count": null,
   "metadata": {},
   "outputs": [],
   "source": [
    "sharks['href'].head(5)"
   ]
  },
  {
   "cell_type": "code",
   "execution_count": null,
   "metadata": {},
   "outputs": [],
   "source": []
  },
  {
   "cell_type": "markdown",
   "metadata": {},
   "source": [
    "## original order"
   ]
  },
  {
   "cell_type": "markdown",
   "metadata": {},
   "source": [
    "Probably the original index order. Is it still relevant?"
   ]
  },
  {
   "cell_type": "code",
   "execution_count": null,
   "metadata": {},
   "outputs": [],
   "source": []
  },
  {
   "cell_type": "code",
   "execution_count": null,
   "metadata": {},
   "outputs": [],
   "source": [
    "sharks['original order'].isna().sum()"
   ]
  },
  {
   "cell_type": "code",
   "execution_count": null,
   "metadata": {
    "scrolled": false
   },
   "outputs": [],
   "source": [
    "sharks['original order'].dropna().tail(25)"
   ]
  },
  {
   "cell_type": "code",
   "execution_count": null,
   "metadata": {},
   "outputs": [],
   "source": []
  }
 ],
 "metadata": {
  "kernelspec": {
   "display_name": "Python 3",
   "language": "python",
   "name": "python3"
  },
  "language_info": {
   "codemirror_mode": {
    "name": "ipython",
    "version": 3
   },
   "file_extension": ".py",
   "mimetype": "text/x-python",
   "name": "python",
   "nbconvert_exporter": "python",
   "pygments_lexer": "ipython3",
   "version": "3.7.6"
  },
  "toc": {
   "base_numbering": 1,
   "nav_menu": {},
   "number_sections": true,
   "sideBar": true,
   "skip_h1_title": false,
   "title_cell": "Table of Contents",
   "title_sidebar": "Contents",
   "toc_cell": false,
   "toc_position": {
    "height": "calc(100% - 180px)",
    "left": "10px",
    "top": "150px",
    "width": "204.8px"
   },
   "toc_section_display": true,
   "toc_window_display": false
  },
  "varInspector": {
   "cols": {
    "lenName": 16,
    "lenType": 16,
    "lenVar": 40
   },
   "kernels_config": {
    "python": {
     "delete_cmd_postfix": "",
     "delete_cmd_prefix": "del ",
     "library": "var_list.py",
     "varRefreshCmd": "print(var_dic_list())"
    },
    "r": {
     "delete_cmd_postfix": ") ",
     "delete_cmd_prefix": "rm(",
     "library": "var_list.r",
     "varRefreshCmd": "cat(var_dic_list()) "
    }
   },
   "types_to_exclude": [
    "module",
    "function",
    "builtin_function_or_method",
    "instance",
    "_Feature"
   ],
   "window_display": false
  }
 },
 "nbformat": 4,
 "nbformat_minor": 2
}
